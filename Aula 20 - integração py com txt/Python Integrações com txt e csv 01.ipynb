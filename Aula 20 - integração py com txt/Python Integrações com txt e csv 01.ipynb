{
 "cells": [
  {
   "cell_type": "markdown",
   "metadata": {},
   "source": [
    "# Integração do Python com Arquivos txt\n",
    "\n",
    "Como quase tudo no Python, existem várias formas de ler um arquivo no Python.\n",
    "\n",
    "Aprendemos em módulos passadas a ler arquivos em Excel ou csv com o Pandas, minha recomendação é que, sempre que possível, use o pandas para isso porque ele é um módulo feito para análise de dados e tem muita coisa pronta dentro dele.\n",
    "\n",
    "Caso queira ler um arquivo txt simplesmente ou escrever um, vamos ver agora como fazer.\n",
    "\n",
    "### Estrutura:"
   ]
  },
  {
   "cell_type": "raw",
   "metadata": {},
   "source": [
    "1. Método open: -> Abre um arquivo txt\n",
    "\n",
    "arquivo = open('NomeArquivo.txt', 'r')\n",
    "\n",
    "Usamos 'r' para abrir o arquivo para ler (read) e 'w' quando estamos abrindo o arquivo para escrever (write) ou 'a' se formos adicionar (append) uma informação no arquivo"
   ]
  },
  {
   "cell_type": "markdown",
   "metadata": {},
   "source": [
    "- Com o arquivo aberto, agora podemos efetivamente ler o arquivo com os métodos:"
   ]
  },
  {
   "cell_type": "raw",
   "metadata": {},
   "source": [
    "2. Método read():\n",
    "\n",
    "texto_arquivo = arquivo.read()\n",
    "\n",
    "3. Método readlines():\n",
    "\n",
    "lista_linhas = arquivo.readlines()"
   ]
  },
  {
   "cell_type": "markdown",
   "metadata": {},
   "source": [
    "- Para escrever alguma coisa no arquivo teremos o método write:"
   ]
  },
  {
   "cell_type": "raw",
   "metadata": {},
   "source": [
    "4. Método write():\n",
    "\n",
    "arquivo.write('Texto que quero escrever')"
   ]
  },
  {
   "cell_type": "markdown",
   "metadata": {},
   "source": [
    "- Obs: Quando você abre um arquivo, ele permanece aberto no Python até você fechar. Existem 2 formas de fazer isso:"
   ]
  },
  {
   "cell_type": "raw",
   "metadata": {},
   "source": [
    "5. Método close():\n",
    "\n",
    "arquivo.close()\n",
    "\n",
    "6. Usando a estrutura with: -> ao final do with, a própria estrutura with fecha automaticamente o arquivo\n",
    "\n",
    "with open('NomeArquivo.txt', 'w') as arquivo:\n",
    "    arquivo.write()\n",
    "    ..."
   ]
  },
  {
   "cell_type": "markdown",
   "metadata": {},
   "source": [
    "### Desafio onde vamos aprender:\n",
    "\n",
    "- Na Hashtag, sempre analisamos o nosso \"Funil de Vendas\". Para isso, rastreamos de onde veio os alunos por meio de um código, do tipo:\n",
    "    - hashtag_site_org -> Pessoas que vieram pelo site da Hashtag\n",
    "    - hashtag_yt_org -> Pessoas que vieram pelo Youtube da Hashtag\n",
    "    - hashtag_ig_org -> Pessoas que vieram pelo Instagram da Hashtag\n",
    "    - hashtag_igfb_org -> Pessoas que vieram pelo Instagram ou Facebook da Hashtag\n",
    "\n",
    "Os códigos diferentes disso, são códigos de anúncio da Hashtag.\n",
    "\n",
    "- Queremos analisar quantos alunos vieram de anúncio e quantos vieram \"orgânico\".\n",
    "- Qual a melhor fonte \"orgânica\" de alunos\n",
    "\n",
    "Obs: orgânico é tudo aquilo que não veio de anúncios.\n",
    "\n",
    "No nosso sistema, conseguimos exportar um txt com as informações dos alunos, conforme o arquivo Alunos.txt<br>\n",
    "(Os dados foram gerados aleatoriamente para simular uma situação real, já que não podemos fornecer os dados reais dos alunos por questões de segurança)\n",
    "\n",
    "- No final, para treinar, vamos escrever todas essas respostas em um novo arquivo txt"
   ]
  },
  {
   "cell_type": "code",
   "execution_count": 3,
   "metadata": {},
   "outputs": [],
   "source": [
    "arq2 = open('Teste.txt','w')\n",
    "arq2.write('Ola')\n",
    "arq2.close()\n",
    "\n",
    "#automaticamente fecha o arq sem usar .close()\n",
    "with open('Teste 2.txt','w') as arquivo3:\n",
    "    arquivo3.write('Ola 3')"
   ]
  },
  {
   "cell_type": "markdown",
   "metadata": {},
   "source": [
    "# Desafio"
   ]
  },
  {
   "cell_type": "code",
   "execution_count": 51,
   "metadata": {},
   "outputs": [
    {
     "name": "stdout",
     "output_type": "stream",
     "text": [
      "Quantidade de anuncio foi : 274\n",
      "Quantidade de organico foi : 226\n",
      "\n",
      "     - Youtube : 155\n",
      "     - Insta : 24\n",
      "     - Site : 73\n"
     ]
    }
   ],
   "source": [
    "arquivo = open('Alunos.txt','r')\n",
    "               #ler como uma lista\n",
    "linhas = arquivo.readlines()\n",
    "\n",
    "#deleta na lista\n",
    "del linhas[:4]\n",
    "\n",
    "#variaveis\n",
    "organico = 0\n",
    "anuncio = 0\n",
    "insta = 0\n",
    "site = 0\n",
    "yt = 0\n",
    "\n",
    "# rodar no txt\n",
    "for linha in linhas:\n",
    "    email, origem = linha.split(',')\n",
    "    \n",
    "    if '_org' in origem:\n",
    "        organico += 1\n",
    "        \n",
    "        if 'igfb_org' in origem or 'ig_org' in origem:\n",
    "            insta += 1\n",
    "        if 'site_org' in origem:\n",
    "            site += 1\n",
    "        if 'yt_org' in origem:\n",
    "            yt += 1\n",
    "    \n",
    "    else:\n",
    "        anuncio += 1\n",
    "    \n",
    "\n",
    "print('Quantidade de anuncio foi : {}'.format(anuncio))\n",
    "print('Quantidade de organico foi : {}\\n'.format(organico))\n",
    "print('     - Youtube : {}'.format(yt))\n",
    "print('     - Insta : {}'.format(insta))\n",
    "print('     - Site : {}'.format(site))\n",
    "\n",
    "#fecha arquivo\n",
    "arquivo.close()\n",
    "\n",
    "#colocando as informações em um novo arquivo | with automaticamente fecha\n",
    "with open('Indicadores.txt','w') as indicadores:\n",
    "    indicadores.write('Quantidade de anuncio foi : {}\\n'.format(anuncio))\n",
    "    indicadores.write('Quantidade de organico foi : {}\\n\\n'.format(organico))\n",
    "    indicadores.write('     - Youtube : {}\\n'.format(yt))\n",
    "    indicadores.write('     - Insta : {}\\n'.format(insta))\n",
    "    indicadores.write('     - Site : {}\\n'.format(site))\n",
    "    \n",
    "\n",
    "\n",
    "\n"
   ]
  }
 ],
 "metadata": {
  "kernelspec": {
   "display_name": "Python 3 (ipykernel)",
   "language": "python",
   "name": "python3"
  },
  "language_info": {
   "codemirror_mode": {
    "name": "ipython",
    "version": 3
   },
   "file_extension": ".py",
   "mimetype": "text/x-python",
   "name": "python",
   "nbconvert_exporter": "python",
   "pygments_lexer": "ipython3",
   "version": "3.9.13"
  }
 },
 "nbformat": 4,
 "nbformat_minor": 4
}
