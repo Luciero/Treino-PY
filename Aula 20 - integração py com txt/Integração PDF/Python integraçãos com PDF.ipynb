{
 "cells": [
  {
   "cell_type": "markdown",
   "metadata": {},
   "source": [
    "# Vamos aprender a trabalhar com PDF usando o Python\n",
    "\n",
    "- Regra geral: PDF foi feito justamente para bloquear muita coisa, então não é fácil \"brincar\" com um pdf\n",
    "- Mesmo assim, Python tem várias bibliotecas que vão nos ajudar, vamos focar em 2:\n",
    "    - PyPDF2\n",
    "    - Tabula\n",
    "- Ler e extrair informações de um PDF a gente consegue fazer.\n",
    "- Escrever e Editar, aí já é outra história\n",
    "\n",
    "### Para os nossos exemplos, vamos avaliar o Release de Resultados do 3º e 4º Trimestre de 2020 da Magazine Luiza"
   ]
  },
  {
   "cell_type": "markdown",
   "metadata": {},
   "source": [
    "#### 1º Objetivo: Queremos conseguir separar apenas o DRE do Release de Resultados (Página 14) para enviar para a Diretoria, como fazemos?\n",
    "    - Separar as páginas de um pdf"
   ]
  },
  {
   "cell_type": "code",
   "execution_count": 2,
   "metadata": {},
   "outputs": [],
   "source": [
    "#Bibliotecas \n",
    "import PyPDF2 as pyf       #Mexer em pdfs\n",
    "from pathlib import Path   #Mexer nos arquivos do pc\n",
    "\n",
    "#Coisas para uzar\n",
    "pyf.PdfFileReader   #Ler\n",
    "pyf.PdfFileWriter   #criar novos e escrever neles\n",
    "pyf.PdfFileMerger   #Mesclar varios\n",
    "\n",
    "#Arquivo\n",
    "nome_arquivo = 'MGLU_ER_3T20_POR.pdf'\n",
    "arquivo_pdf = pyf.PdfFileReader(nome_arquivo)\n",
    "                            \n",
    "i = 1                    #vai por pagina\n",
    "for pagina in arquivo_pdf.pages:\n",
    "    novo_arquivo = pyf.PdfFileWriter()   #vai criar uma pagina vazia\n",
    "    novo_arquivo.addPage(pagina)       #vai adicionar uma pagina criada\n",
    "    #salvar o novo_pdf                      #modo de leitura e gravação\n",
    "    with Path(f'Paginas/Pagina{i}.pdf').open(mode = 'wb') as arquivo_final:\n",
    "        novo_arquivo.write(arquivo_final)\n",
    "    \n",
    "    i+=1"
   ]
  },
  {
   "cell_type": "markdown",
   "metadata": {},
   "source": [
    "#### 2º Objetivo: Com o Release de Resultados já separado página por página, queremos incluir apenas as Páginas de Destaque (Página 1), DRE (Página 14) e Balanço (Página 16).\n",
    "    - Juntar vários pdfs em 1"
   ]
  },
  {
   "cell_type": "code",
   "execution_count": 3,
   "metadata": {},
   "outputs": [],
   "source": [
    "paginas = [1,14,16]\n",
    "\n",
    "#criar um novo pdf\n",
    "novo_pdf = pyf.PdfFileWriter()\n",
    "\n",
    "for num_paginas in paginas:\n",
    "    #pegar o arquivo num_pagina\n",
    "    arquivo_pdf = f'Paginas/Pagina{num_paginas}.pdf'  #Vai pegar os arquivos em pdf\n",
    "    ler_pdf = pyf.PdfFileReader(arquivo_pdf)  #Vai ler eles e criar um abjeto\n",
    "    pagina = ler_pdf.pages[0]   #vai pegar tudo dentro do objeto \n",
    "    #adicionar ele no novo_pdf\n",
    "    novo_pdf.addPage(pagina) \n",
    "    \n",
    "    #salvar o novo_pdf\n",
    "    with Path('Combinação.pdf').open(mode = 'wb') as arquivo_finall:\n",
    "        novo_pdf.write(arquivo_finall)"
   ]
  },
  {
   "cell_type": "markdown",
   "metadata": {},
   "source": [
    "### Extra: Para adicionar todas as páginas de 2 pdfs"
   ]
  },
  {
   "cell_type": "code",
   "execution_count": 4,
   "metadata": {},
   "outputs": [
    {
     "name": "stderr",
     "output_type": "stream",
     "text": [
      "Superfluous whitespace found in object header b'1' b'0'\n",
      "Superfluous whitespace found in object header b'2' b'0'\n",
      "Superfluous whitespace found in object header b'3' b'0'\n",
      "Superfluous whitespace found in object header b'19' b'0'\n",
      "Superfluous whitespace found in object header b'1' b'0'\n",
      "Superfluous whitespace found in object header b'2' b'0'\n",
      "Superfluous whitespace found in object header b'3' b'0'\n",
      "Superfluous whitespace found in object header b'17' b'0'\n",
      "Superfluous whitespace found in object header b'16' b'0'\n",
      "Superfluous whitespace found in object header b'14' b'0'\n",
      "Superfluous whitespace found in object header b'4' b'0'\n",
      "Superfluous whitespace found in object header b'15' b'0'\n",
      "Superfluous whitespace found in object header b'13' b'0'\n",
      "Superfluous whitespace found in object header b'12' b'0'\n",
      "Superfluous whitespace found in object header b'11' b'0'\n",
      "Superfluous whitespace found in object header b'10' b'0'\n",
      "Superfluous whitespace found in object header b'9' b'0'\n",
      "Superfluous whitespace found in object header b'8' b'0'\n",
      "Superfluous whitespace found in object header b'7' b'0'\n",
      "Superfluous whitespace found in object header b'6' b'0'\n",
      "Superfluous whitespace found in object header b'5' b'0'\n",
      "Superfluous whitespace found in object header b'18' b'0'\n",
      "Superfluous whitespace found in object header b'5' b'0'\n",
      "Superfluous whitespace found in object header b'17' b'0'\n",
      "Superfluous whitespace found in object header b'16' b'0'\n",
      "Superfluous whitespace found in object header b'15' b'0'\n",
      "Superfluous whitespace found in object header b'14' b'0'\n",
      "Superfluous whitespace found in object header b'13' b'0'\n",
      "Superfluous whitespace found in object header b'12' b'0'\n",
      "Superfluous whitespace found in object header b'11' b'0'\n",
      "Superfluous whitespace found in object header b'10' b'0'\n",
      "Superfluous whitespace found in object header b'9' b'0'\n",
      "Superfluous whitespace found in object header b'8' b'0'\n",
      "Superfluous whitespace found in object header b'7' b'0'\n",
      "Superfluous whitespace found in object header b'6' b'0'\n",
      "Superfluous whitespace found in object header b'4' b'0'\n"
     ]
    }
   ],
   "source": [
    "juntar_pdfs = pyf.PdfFileMerger()\n",
    "\n",
    "Arquivo1 = 'Pratica Simples/Comprovante de matricula.pdf'\n",
    "Arquivo2 = 'Pratica Simples/Materias cursadas.pdf'\n",
    "\n",
    "juntar_pdfs.append(Arquivo1, pages = (0,1))\n",
    "juntar_pdfs.append(Arquivo2, pages = (0,1))\n",
    "\n",
    "with Path('Pratica Simples/Juntados.pdf').open(mode = 'wb') as arquivo_final:\n",
    "        juntar_pdfs.write(arquivo_final)"
   ]
  },
  {
   "cell_type": "markdown",
   "metadata": {},
   "source": [
    "# Funcionalidades que podem ser úteis:\n",
    "\n",
    "- Inserir arquivo no meio do outro\n",
    "- Quero colocar dentro do Resultado do 4T20 os destaques do 3T20 para poder comparar os 2 dentro do mesmo relatório"
   ]
  },
  {
   "cell_type": "code",
   "execution_count": 8,
   "metadata": {},
   "outputs": [],
   "source": [
    "mesclar_pdfs = pyf.PdfFileMerger()  #cria mas vazio\n",
    "\n",
    "arquivo1 = 'MGLU_ER_3T20_POR.pdf'\n",
    "arquivo2 = 'MGLU_ER_4T20_POR.pdf'\n",
    "\n",
    "mesclar_pdfs.append(arquivo1)  #adiciona o pdf do 3 semestre\n",
    "mesclar_pdfs.merge(1, arquivo2)   #adiciona no meio do anterior\n",
    "\n",
    "with Path('PdfMerge.pdf').open(mode = 'wb') as arquivo_final:\n",
    "        mesclar_pdfs.write(arquivo_final)"
   ]
  },
  {
   "cell_type": "markdown",
   "metadata": {},
   "source": [
    "- Rodar Página"
   ]
  },
  {
   "cell_type": "code",
   "execution_count": 12,
   "metadata": {},
   "outputs": [],
   "source": [
    "rodar_pdfs = pyf.PdfReader(arquivo1)  # leu o arquivos dos pdfs\n",
    "\n",
    "pdf_final = pyf.PdfFileWriter()\n",
    "for pagina in rodar_pdfs.pages:  #rodou dentro das paginas dele \n",
    "    pagina.rotateClockwise(90)   # girar 90\n",
    "    pdf_final.addPage(pagina)\n",
    "    \n",
    "with Path('PdfRodado.pdf').open(mode = 'wb') as arquivo_final:\n",
    "    pdf_final.write(arquivo_final)"
   ]
  },
  {
   "cell_type": "markdown",
   "metadata": {},
   "source": [
    "# Trabalhando com Textos e Informações Dentro do PDF\n",
    "\n",
    "#### 1º Objetivo: Quero identificar como foram as Despesas com Vendas da MGLU\n",
    "    - Pegar texto da página e identificar onde está essa informação"
   ]
  },
  {
   "cell_type": "code",
   "execution_count": null,
   "metadata": {},
   "outputs": [],
   "source": []
  },
  {
   "cell_type": "markdown",
   "metadata": {},
   "source": [
    "#### 2º Objetivo: Quero analisar o DRE (sem ajuste - Página 5)\n",
    "    - Para ler tabelas em pdf, use o tabula (é ninja)"
   ]
  },
  {
   "cell_type": "code",
   "execution_count": null,
   "metadata": {},
   "outputs": [],
   "source": []
  },
  {
   "cell_type": "markdown",
   "metadata": {},
   "source": [
    "#### 3º Objetivo: Quero analisar o Capital de Giro e os Investimentos (ambas as tabelas na página 12)\n",
    "    - Páginas com mais de 1 tabela"
   ]
  },
  {
   "cell_type": "code",
   "execution_count": null,
   "metadata": {},
   "outputs": [],
   "source": []
  },
  {
   "cell_type": "markdown",
   "metadata": {},
   "source": [
    "#### O que fazer quando o tabula não consegue ler alguma linha da tabela? Como o cabeçalho, no nosso caso?"
   ]
  },
  {
   "cell_type": "code",
   "execution_count": null,
   "metadata": {},
   "outputs": [],
   "source": []
  },
  {
   "cell_type": "markdown",
   "metadata": {},
   "source": [
    "# Outro método que pode ser útil algum dia: Captar Imagem em um pdf\n",
    "    - biblioteca pikepdf"
   ]
  },
  {
   "cell_type": "code",
   "execution_count": null,
   "metadata": {},
   "outputs": [],
   "source": [
    "from pikepdf import Pdf, PdfImage\n",
    "\n",
    "filename = \"MGLU_ER_3T20_POR.pdf\"\n",
    "example = Pdf.open(filename)\n",
    "\n",
    "n_arquivo = 0\n",
    "for i, pagina in enumerate(example.pages):\n",
    "    for nome, imagem in pagina.images.items():\n",
    "        imagem_salvar = PdfImage(imagem)\n",
    "        imagem_salvar.extract_to(fileprefix=f'imgs/Pagina_{i:02}_{n_arquivo}')\n",
    "        n_arquivo += 1"
   ]
  },
  {
   "cell_type": "markdown",
   "metadata": {},
   "source": [
    "# Substituir texto no pdf tipo contrato\n",
    "\n",
    "- Não recomendo fazer diretamente pelo Python. Realmente do que vi a melhor opção me parece o Word fazer isso\n",
    "- Caso precise automatizar, automatize o processo fazendo ele pelo Word\n",
    "- Quem quiser MUITO fazer isso pelo Python, tem um link aqui que vai te ajudar de uma solução que achei que funciona. Tem seus bugs/cuidados especiais, mas funciona: https://pdf.co/samples/pdf-co-web-api-replace-text-from-pdf-python-replace-text-from-url"
   ]
  }
 ],
 "metadata": {
  "kernelspec": {
   "display_name": "Python 3 (ipykernel)",
   "language": "python",
   "name": "python3"
  },
  "language_info": {
   "codemirror_mode": {
    "name": "ipython",
    "version": 3
   },
   "file_extension": ".py",
   "mimetype": "text/x-python",
   "name": "python",
   "nbconvert_exporter": "python",
   "pygments_lexer": "ipython3",
   "version": "3.9.13"
  }
 },
 "nbformat": 4,
 "nbformat_minor": 4
}
