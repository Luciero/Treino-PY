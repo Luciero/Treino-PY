{
 "cells": [
  {
   "cell_type": "code",
   "execution_count": 75,
   "id": "fe4e0d9c",
   "metadata": {},
   "outputs": [],
   "source": [
    "# criar o navegador\n",
    "from selenium import webdriver\n",
    "from selenium.webdriver.chrome.service import Service\n",
    "from webdriver_manager.chrome import ChromeDriverManager\n",
    "from selenium.webdriver.common.by import By\n",
    "\n",
    "servico = Service(ChromeDriverManager().install())\n",
    "navegador = webdriver.Chrome(service=servico)"
   ]
  },
  {
   "cell_type": "code",
   "execution_count": 76,
   "id": "7d5b41aa",
   "metadata": {},
   "outputs": [],
   "source": [
    "navegador.get('https://www.instagram.com/accounts/emailsignup/')"
   ]
  },
  {
   "cell_type": "code",
   "execution_count": 130,
   "id": "98760946",
   "metadata": {},
   "outputs": [
    {
     "name": "stdout",
     "output_type": "stream",
     "text": [
      "X 1297\n",
      "Y 717\n"
     ]
    }
   ],
   "source": [
    "import pyautogui as pyT\n",
    "mouseX, mouseY = py.position()\n",
    "print('X',mouseX)\n",
    "print('Y',mouseY)"
   ]
  },
  {
   "cell_type": "code",
   "execution_count": 136,
   "id": "dd55cd0e",
   "metadata": {},
   "outputs": [],
   "source": [
    "import time\n",
    "py.moveTo(1226, 26)\n",
    "py.click()\n",
    "py.write('https://www.google.com/gmail/about/', interval=0.01)\n",
    "time.sleep(0.3)\n",
    "py.press('Enter')\n",
    "\n",
    "#Sign in\n",
    "time.sleep(2)\n",
    "py.moveTo(1653, 113)\n",
    "time.sleep(0.2)\n",
    "py.click()\n",
    "time.sleep(3)\n",
    "#Create account\n",
    "py.moveTo(1297, 708)\n",
    "time.sleep(0.2)\n",
    "py.click()\n",
    "time.sleep(1)\n",
    "#For my personal Use\n",
    "py.moveTo(1299, 804)\n",
    "time.sleep(0.2)\n",
    "py.click()\n",
    "time.sleep(3.5)\n",
    "\n",
    "py.write('geral0002', interval=0.03)\n",
    "time.sleep(0.2)\n",
    "py.press('Tab')\n",
    "py.press('Tab')\n",
    "py.press('Enter')"
   ]
  },
  {
   "cell_type": "code",
   "execution_count": 119,
   "id": "b400a76d",
   "metadata": {},
   "outputs": [],
   "source": [
    "#Month\n",
    "py.moveTo(1347, 542)\n",
    "py.click()\n",
    "time.sleep(0.2)\n",
    "py.moveTo(1340, 564)\n",
    "py.click()\n",
    "time.sleep(0.2)\n",
    "\n",
    "#Day\n",
    "py.press('Tab')\n",
    "py.write('6')\n",
    "\n",
    "#Year\n",
    "py.press('Tab')\n",
    "py.write('2001')\n",
    "\n",
    "#Gender\n",
    "py.press('Tab')\n",
    "py.moveTo(1560, 597)\n",
    "py.click()\n",
    "time.sleep(0.2)\n",
    "py.moveTo(1564, 674)\n",
    "py.click()\n",
    "time.sleep(0.2)\n",
    "\n",
    "#Next\n",
    "py.press('Tab')\n",
    "py.press('Tab')\n",
    "time.sleep(0.2)\n",
    "py.press('Enter')\n",
    "time.sleep(4)\n",
    "\n"
   ]
  },
  {
   "cell_type": "code",
   "execution_count": 123,
   "id": "5ba4812d",
   "metadata": {},
   "outputs": [],
   "source": [
    "# Create new email\n",
    "py.moveTo(1264, 631)\n",
    "py.click()\n",
    "time.sleep(0.5)\n",
    "py.write('geral00000000002', interval=0.03)\n",
    "py.press('Tab')\n",
    "py.press('Enter')\n"
   ]
  },
  {
   "cell_type": "code",
   "execution_count": 125,
   "id": "7c9b959a",
   "metadata": {},
   "outputs": [],
   "source": [
    "time.sleep(1)\n",
    "\n",
    "py.write('@geral1234567890', interval=0.03)\n",
    "py.press('Tab')\n",
    "py.write('@geral1234567890', interval=0.03)\n",
    "py.press('Tab')\n",
    "py.press('Tab')\n",
    "py.press('Enter')\n"
   ]
  },
  {
   "cell_type": "code",
   "execution_count": 94,
   "id": "028e2fed",
   "metadata": {},
   "outputs": [],
   "source": []
  }
 ],
 "metadata": {
  "kernelspec": {
   "display_name": "Python 3 (ipykernel)",
   "language": "python",
   "name": "python3"
  },
  "language_info": {
   "codemirror_mode": {
    "name": "ipython",
    "version": 3
   },
   "file_extension": ".py",
   "mimetype": "text/x-python",
   "name": "python",
   "nbconvert_exporter": "python",
   "pygments_lexer": "ipython3",
   "version": "3.11.3"
  }
 },
 "nbformat": 4,
 "nbformat_minor": 5
}
