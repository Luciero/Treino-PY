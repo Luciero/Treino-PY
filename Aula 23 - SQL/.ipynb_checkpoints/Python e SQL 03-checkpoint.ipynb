{
 "cells": [
  {
   "cell_type": "markdown",
   "metadata": {},
   "source": [
    "# Desafio Python e SQL\n",
    "\n",
    "### Nesse desafio, vamos fazer uma consulta em SQL com uma condição e fazer o tratamento das informações no Python usando o pandas\n",
    "\n",
    "- Calcule o lucro diário da empresa \n",
    "\n",
    "- Tabela com as Vendas -> dbo.FactSales\n",
    "- Lucro é -> Sales Amount - TotalCost - DiscountAmount\n",
    "- Lembre que podemos ter mais de 1 transação por dia na tabela, então uma opção é usar o método groupby do pandas\n",
    "- Sugestão para ajudar na análise é plotar um gráfico do lucro diário"
   ]
  },
  {
   "cell_type": "code",
   "execution_count": 1,
   "metadata": {},
   "outputs": [],
   "source": [
    "import pyodbc\n",
    "dados_conexao = (\"Driver={ODBC Driver 17 for SQL Server};\"\n",
    "                \"Server=HueccoMundo;\"\n",
    "                \"Database=ContosoRetailDW;\"\n",
    "                \"Trusted_Connection=yes;\")\n",
    "\n",
    "conexao = pyodbc.connect(dados_conexao)"
   ]
  },
  {
   "cell_type": "code",
   "execution_count": 2,
   "metadata": {},
   "outputs": [],
   "source": [
    "cursor = conexao.cursor()"
   ]
  },
  {
   "cell_type": "code",
   "execution_count": null,
   "metadata": {},
   "outputs": [
    {
     "name": "stderr",
     "output_type": "stream",
     "text": [
      "C:\\Users\\Peu\\AppData\\Local\\Temp\\ipykernel_12876\\3105883485.py:3: UserWarning: pandas only supports SQLAlchemy connectable (engine/connection) or database string URI or sqlite3 DBAPI2 connection. Other DBAPI2 objects are not tested. Please consider using SQLAlchemy.\n",
      "  produtos_df = pd.read_sql('SELECT * FROM ContosoRetailDW.dbo.FactSales', conexao)\n"
     ]
    }
   ],
   "source": [
    "import pandas as pd\n",
    "\n",
    "produtos_df = pd.read_sql('SELECT * FROM ContosoRetailDW.dbo.FactSales', conexao)"
   ]
  }
 ],
 "metadata": {
  "kernelspec": {
   "display_name": "Python 3 (ipykernel)",
   "language": "python",
   "name": "python3"
  },
  "language_info": {
   "codemirror_mode": {
    "name": "ipython",
    "version": 3
   },
   "file_extension": ".py",
   "mimetype": "text/x-python",
   "name": "python",
   "nbconvert_exporter": "python",
   "pygments_lexer": "ipython3",
   "version": "3.11.3"
  }
 },
 "nbformat": 4,
 "nbformat_minor": 4
}
