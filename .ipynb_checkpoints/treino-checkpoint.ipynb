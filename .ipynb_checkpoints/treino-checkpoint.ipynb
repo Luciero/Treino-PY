{
 "cells": [
  {
   "cell_type": "markdown",
   "id": "ef81651c",
   "metadata": {},
   "source": [
    "# In\n"
   ]
  },
  {
   "cell_type": "code",
   "execution_count": 1,
   "id": "76c162c0",
   "metadata": {},
   "outputs": [
    {
     "name": "stdout",
     "output_type": "stream",
     "text": [
      "True\n"
     ]
    }
   ],
   "source": [
    "print('oi' in 'oie')\n",
    "#in verifica string em outra string"
   ]
  },
  {
   "cell_type": "markdown",
   "id": "45af239b",
   "metadata": {},
   "source": [
    "# Concatenação"
   ]
  },
  {
   "cell_type": "code",
   "execution_count": 2,
   "id": "524e9fe5",
   "metadata": {},
   "outputs": [
    {
     "name": "stdout",
     "output_type": "stream",
     "text": [
      "Qual o seu nome? Pedro\n",
      "Qual seu sobrenome? Henrique\n",
      "Pedro Henrique\n"
     ]
    }
   ],
   "source": [
    "nome = input('Qual o seu nome? ')\n",
    "sobrenome = input('Qual seu sobrenome? ')\n",
    "\n",
    "print(nome + ' ' + sobrenome)\n",
    "#concatenação de strings"
   ]
  },
  {
   "cell_type": "markdown",
   "id": "424f5e03",
   "metadata": {},
   "source": [
    "# Type"
   ]
  },
  {
   "cell_type": "code",
   "execution_count": 1,
   "id": "bfb12e08",
   "metadata": {},
   "outputs": [
    {
     "data": {
      "text/plain": [
       "int"
      ]
     },
     "execution_count": 1,
     "metadata": {},
     "output_type": "execute_result"
    }
   ],
   "source": [
    "faturamento = 1000\n",
    "type(faturamento)\n",
    "#type mostra o o tipo da variavel"
   ]
  },
  {
   "cell_type": "markdown",
   "id": "87aab6c6",
   "metadata": {},
   "source": [
    "# Concatenação + troca de variavel"
   ]
  },
  {
   "cell_type": "code",
   "execution_count": 3,
   "id": "48e1e7a8",
   "metadata": {},
   "outputs": [
    {
     "name": "stdout",
     "output_type": "stream",
     "text": [
      "O custo foi de 1500\n"
     ]
    }
   ],
   "source": [
    "custo = 1500\n",
    "print('O custo foi de ' + str(custo))\n",
    "#transformar int em str para fazer a concatenação"
   ]
  },
  {
   "cell_type": "markdown",
   "id": "d41f3183",
   "metadata": {},
   "source": [
    "# Format "
   ]
  },
  {
   "cell_type": "code",
   "execution_count": 8,
   "id": "6c889f29",
   "metadata": {},
   "outputs": [
    {
     "name": "stdout",
     "output_type": "stream",
     "text": [
      "O custo foi de 1500. Tendo uma mao de obra de 50. Lucrando 2500 \n"
     ]
    }
   ],
   "source": [
    "custo = 1500\n",
    "mao_de_obra = 50\n",
    "lucro = 2500\n",
    "print('O custo foi de {}. Tendo uma mao de obra de {}. Lucrando {} '.format(custo, mao_de_obra, lucro))\n",
    "#formata a variavel e ha coloca no texto usando um '{}'"
   ]
  },
  {
   "cell_type": "markdown",
   "id": "8d02234a",
   "metadata": {},
   "source": [
    "# Not e Pass "
   ]
  },
  {
   "cell_type": "code",
   "execution_count": 4,
   "id": "d0168d91",
   "metadata": {},
   "outputs": [
    {
     "name": "stdout",
     "output_type": "stream",
     "text": [
      "insira seu emailpedro@gm.ocm\n"
     ]
    }
   ],
   "source": [
    "email = input('insira seu email:')\n",
    "if not '@' in email:                   #'Not' nega a comparação \n",
    "    print('Email invalido')\n",
    "else:\n",
    "    pass                               #Simplismente passa o codigo"
   ]
  },
  {
   "cell_type": "markdown",
   "id": "fbfbd331",
   "metadata": {},
   "source": [
    "# ' ' and e or"
   ]
  },
  {
   "cell_type": "code",
   "execution_count": 13,
   "id": "19e2c17f",
   "metadata": {},
   "outputs": [
    {
     "name": "stdout",
     "output_type": "stream",
     "text": [
      "Faça seu pedido asda\n",
      "Faça seu segundo pedido asd\n",
      "Refri quantidade 50\n",
      "Cerveja quantidade 80\n",
      "Nao temos em estoque!\n"
     ]
    }
   ],
   "source": [
    "refri = 50\n",
    "cerveja = 80\n",
    "\n",
    "pedido1 = input('Faça seu pedido ')\n",
    "pedido2 = input('Faça seu segundo pedido ')\n",
    "\n",
    "if pedido1 == '' or pedido2 == '':    #Escrever o  == ' ' é a msm coisa que nao escrever nada no if  \n",
    "    print('Digite novamente')\n",
    "else:\n",
    "    quant_refri = input('Refri quantidade ')\n",
    "    quant_cerve = input('Cerveja quantidade ')\n",
    "if quant_refri == refri or quant_cerve == cerveja:\n",
    "    print('Pedido feito!')\n",
    "else:\n",
    "    print('Nao temos em estoque!')\n",
    "    \n",
    "    "
   ]
  },
  {
   "cell_type": "markdown",
   "id": "0fae1ca4",
   "metadata": {},
   "source": [
    "# String\n"
   ]
  },
  {
   "cell_type": "raw",
   "id": "6c01a7be",
   "metadata": {},
   "source": [
    "0 1 2 3 4 5 6 7 8 9 10 11 12 13 14\n",
    "p e d r o @ g m a i l  .  c  o  m"
   ]
  },
  {
   "cell_type": "code",
   "execution_count": 18,
   "id": "0b719841",
   "metadata": {},
   "outputs": [
    {
     "name": "stdout",
     "output_type": "stream",
     "text": [
      "g\n",
      "15\n"
     ]
    }
   ],
   "source": [
    "email = 'pedro@gmail.com'\n",
    "print(email[6])    #Acessa o caractere da string\n",
    "print(len(email))  #Tamanho da string  (indice + 1)"
   ]
  },
  {
   "cell_type": "markdown",
   "id": "a0923338",
   "metadata": {},
   "source": [
    "# split"
   ]
  },
  {
   "cell_type": "code",
   "execution_count": 46,
   "id": "7f90777c",
   "metadata": {},
   "outputs": [
    {
     "data": {
      "text/plain": [
       "['pedro', 'henrique', 'dos', 'santos']"
      ]
     },
     "execution_count": 46,
     "metadata": {},
     "output_type": "execute_result"
    }
   ],
   "source": [
    "texto = 'pedro henrique dos santos'\n",
    "texto.split()   # trasnforma texto em lista"
   ]
  },
  {
   "cell_type": "markdown",
   "id": "5e2d3a31",
   "metadata": {},
   "source": [
    "# String (Índice inverso)"
   ]
  },
  {
   "cell_type": "raw",
   "id": "d0426592",
   "metadata": {},
   "source": [
    "-15 -14 -13 -12 -11 -10 -9 -8 -7 -6 -5 -4 -3 -2 -1\n",
    " p   e   d   r   o   @   g  m  a  i  l  .  c  o  m\n",
    " \n",
    " |   |   |   |   |   |   |  |  |  |  |  |  |  |  |\n",
    " 0   1   2   3   4   5   6  7  8  9  10 11 12 13 14"
   ]
  },
  {
   "cell_type": "code",
   "execution_count": 30,
   "id": "55537d8a",
   "metadata": {},
   "outputs": [
    {
     "name": "stdout",
     "output_type": "stream",
     "text": [
      "g\n",
      "pedro\n",
      "@gmail.com\n",
      "\n",
      "pedro@gmai\n",
      "l.com\n"
     ]
    }
   ],
   "source": [
    "email = 'pedro@gmail.com'\n",
    "print(email[-9])\n",
    "print(email[:5])  #acessa os caracteres até a variavel '5' menos ela\n",
    "print(email[5:])  #acessa os caracteres a partir da variavel '5'\n",
    "print()\n",
    "print(email[:-5])  \n",
    "print(email[-5:])"
   ]
  },
  {
   "cell_type": "markdown",
   "id": "82111b57",
   "metadata": {},
   "source": [
    "# String (Uso do %d, %s)"
   ]
  },
  {
   "cell_type": "code",
   "execution_count": 44,
   "id": "29128027",
   "metadata": {},
   "outputs": [
    {
     "name": "stdout",
     "output_type": "stream",
     "text": [
      "O faturamento foi de 1000. O custo foi de .O lucro foi de .\n",
      "O faturamento foi de 1000. O custo foi de 500.O lucro foi de 500.\n"
     ]
    }
   ],
   "source": [
    "#%s transforma em string\n",
    "#%d transforma em inteiro\n",
    "\n",
    "faturamento = 1000\n",
    "custo = 500\n",
    "lucro = faturamento - custo\n",
    "\n",
    "print('O faturamento foi de %s. O custo foi de .O lucro foi de .' % faturamento)   #usado no python antigo\n",
    "print('O faturamento foi de %d. O custo foi de %d.O lucro foi de %d.' % (faturamento,custo,lucro))  #para mais de uma variavel coloca parenteses"
   ]
  },
  {
   "cell_type": "markdown",
   "id": "be4bd61d",
   "metadata": {},
   "source": [
    "# String(Metodos)"
   ]
  },
  {
   "cell_type": "code",
   "execution_count": 3,
   "id": "8bc3b5e6",
   "metadata": {},
   "outputs": [
    {
     "name": "stdout",
     "output_type": "stream",
     "text": [
      "Pedro\n"
     ]
    }
   ],
   "source": [
    "texto = 'pedro'\n",
    "print(texto.capitalize()) #Coloca a primeira letra Maisculo"
   ]
  },
  {
   "cell_type": "code",
   "execution_count": 7,
   "id": "5d07c2c0",
   "metadata": {},
   "outputs": [
    {
     "name": "stdout",
     "output_type": "stream",
     "text": [
      "pedro\n"
     ]
    }
   ],
   "source": [
    "texto = 'Pedro'\n",
    "print(texto.casefold()) #Coloca a primeira letra em minisculo"
   ]
  },
  {
   "cell_type": "code",
   "execution_count": 9,
   "id": "c73c9ac6",
   "metadata": {},
   "outputs": [
    {
     "name": "stdout",
     "output_type": "stream",
     "text": [
      "2\n"
     ]
    }
   ],
   "source": [
    "email = 'pedro@gmail.com'\n",
    "print(email.count('o')) #Conta quantos caracteres tem no texto"
   ]
  },
  {
   "cell_type": "code",
   "execution_count": 39,
   "id": "1eb88cd0",
   "metadata": {},
   "outputs": [
    {
     "name": "stdout",
     "output_type": "stream",
     "text": [
      "True\n"
     ]
    }
   ],
   "source": [
    "email = 'pedro@gmail.com'\n",
    "print(email.startswith('pedro')) #Verifica se um final do texto comeca com isso"
   ]
  },
  {
   "cell_type": "code",
   "execution_count": 12,
   "id": "63f655e9",
   "metadata": {},
   "outputs": [
    {
     "name": "stdout",
     "output_type": "stream",
     "text": [
      "True\n"
     ]
    }
   ],
   "source": [
    "email = 'pedro@gmail.com'\n",
    "print(email.endswith('gmail.com')) #Verifica se um final do texto termina com isso"
   ]
  },
  {
   "cell_type": "code",
   "execution_count": 2,
   "id": "65724e9c",
   "metadata": {},
   "outputs": [
    {
     "name": "stdout",
     "output_type": "stream",
     "text": [
      "5\n"
     ]
    }
   ],
   "source": [
    "email = 'pedro@gmail.com'\n",
    "print(email.find('@')) #Procura onde esta o caractere no texto"
   ]
  },
  {
   "cell_type": "markdown",
   "id": "96d38af8",
   "metadata": {},
   "source": [
    "### isalnum, isalpha, isnumeric"
   ]
  },
  {
   "cell_type": "code",
   "execution_count": 31,
   "id": "9f3e87bd",
   "metadata": {},
   "outputs": [
    {
     "name": "stdout",
     "output_type": "stream",
     "text": [
      "True\n",
      "False\n"
     ]
    }
   ],
   "source": [
    "texto1 = 'Pedro123'\n",
    "texto = 'Pedro$%#'\n",
    "\n",
    "print(texto1.isalnum())  #Verifica se um texto é alfanumerico (letra e numero)\n",
    "print(texto.isalnum())"
   ]
  },
  {
   "cell_type": "code",
   "execution_count": 27,
   "id": "49e2783d",
   "metadata": {},
   "outputs": [
    {
     "name": "stdout",
     "output_type": "stream",
     "text": [
      "False\n",
      "True\n"
     ]
    }
   ],
   "source": [
    "texto1 = 'Pedro123'\n",
    "texto = 'Pedro'\n",
    "\n",
    "print(texto1.isalpha()) #Verifica se um texto é feito somente de letras\n",
    "print(texto.isalpha())"
   ]
  },
  {
   "cell_type": "code",
   "execution_count": 30,
   "id": "442065a5",
   "metadata": {},
   "outputs": [
    {
     "name": "stdout",
     "output_type": "stream",
     "text": [
      "True\n",
      "False\n"
     ]
    }
   ],
   "source": [
    "texto1 = '123'\n",
    "texto = 'Pedro'\n",
    "\n",
    "print(texto1.isnumeric()) #Verifica se um texto é feito somente de numeros\n",
    "print(texto.isnumeric())"
   ]
  },
  {
   "cell_type": "markdown",
   "id": "a41c62fc",
   "metadata": {},
   "source": [
    "\n",
    "# "
   ]
  },
  {
   "cell_type": "code",
   "execution_count": 33,
   "id": "ff4930a8",
   "metadata": {},
   "outputs": [
    {
     "name": "stdout",
     "output_type": "stream",
     "text": [
      "pedro@gmail,com\n"
     ]
    }
   ],
   "source": [
    "email = 'pedro@gmail.com' \n",
    "print(email.replace('.',',')) #Replace o caractere"
   ]
  },
  {
   "cell_type": "code",
   "execution_count": 35,
   "id": "23830c01",
   "metadata": {},
   "outputs": [
    {
     "name": "stdout",
     "output_type": "stream",
     "text": [
      "['pedro', 'gmail.com']\n"
     ]
    }
   ],
   "source": [
    "email = 'pedro@gmail.com' \n",
    "print(email.split('@')) #Separa no argumento"
   ]
  },
  {
   "cell_type": "code",
   "execution_count": 36,
   "id": "a0bc4a5a",
   "metadata": {},
   "outputs": [
    {
     "name": "stdout",
     "output_type": "stream",
     "text": [
      "['aaaaaaaaaaaaaaaaaaaaaaaaa', 'bbbbbbbbbbbbbbbbbbbbbbbbbbbbb', 'ccccccccccccccccccccccccccccc']\n"
     ]
    }
   ],
   "source": [
    "texto = '''aaaaaaaaaaaaaaaaaaaaaaaaa\n",
    "        bbbbbbbbbbbbbbbbbbbbbbbbbbbbb\n",
    "        ccccccccccccccccccccccccccccc'''\n",
    "print(texto.split())    "
   ]
  },
  {
   "cell_type": "code",
   "execution_count": 44,
   "id": "f45bcb1b",
   "metadata": {},
   "outputs": [
    {
     "name": "stdout",
     "output_type": "stream",
     "text": [
      "Pedro\n"
     ]
    }
   ],
   "source": [
    "texto = '   Pedro  '\n",
    "print(texto.strip())  #Retira os caracteres indesejados antes e depois"
   ]
  },
  {
   "cell_type": "code",
   "execution_count": 50,
   "id": "de9a4d04",
   "metadata": {},
   "outputs": [
    {
     "name": "stdout",
     "output_type": "stream",
     "text": [
      "Pedro Henrique Dos Santos\n"
     ]
    }
   ],
   "source": [
    "nome = 'pedro henrique dos santos'\n",
    "print(nome.title()) #Coloca todos os caracteres iniciais maisculo"
   ]
  },
  {
   "cell_type": "code",
   "execution_count": 51,
   "id": "59e85a50",
   "metadata": {},
   "outputs": [
    {
     "name": "stdout",
     "output_type": "stream",
     "text": [
      "PEDRO HENRIQUE DOS SANTOS\n"
     ]
    }
   ],
   "source": [
    "nome = 'pedro henrique dos santos'\n",
    "print(nome.upper()) #Coloca todos os caracteres em maisculo"
   ]
  },
  {
   "cell_type": "markdown",
   "id": "0e7109b0",
   "metadata": {},
   "source": [
    "# Lista index"
   ]
  },
  {
   "cell_type": "code",
   "execution_count": 10,
   "id": "ba2e4b97",
   "metadata": {},
   "outputs": [
    {
     "name": "stdout",
     "output_type": "stream",
     "text": [
      "['batata', 'cenoura', 'tomate', 'cebola', 'pimentao']\n",
      "3\n",
      "50\n"
     ]
    }
   ],
   "source": [
    "mercado = ['batata','banana','tomate','cebola','pimentao']\n",
    "estoque = [100,150,90,50,35]\n",
    "\n",
    "mercado[1] = 'cenoura'\n",
    "print(mercado)\n",
    "\n",
    "i = mercado.index('cebola')\n",
    "print(i)\n",
    "print(estoque[i])"
   ]
  },
  {
   "cell_type": "markdown",
   "id": "330fd0be",
   "metadata": {},
   "source": [
    "# Append and Remove/Pop"
   ]
  },
  {
   "cell_type": "code",
   "execution_count": 27,
   "id": "44c093b8",
   "metadata": {},
   "outputs": [
    {
     "name": "stdout",
     "output_type": "stream",
     "text": [
      "['carro', 'moto', 'bicicleta', 'carro', 'caminhao', 'onibus', 'trem']\n",
      "['carro', 'bicicleta', 'carro', 'caminhao', 'onibus', 'trem']\n",
      "['carro', 'bicicleta', 'carro', 'caminhao', 'onibus', 'trem', 'metro']\n",
      "['carro', 'bicicleta', 'carro', 'caminhao', 'onibus', 'metro']\n",
      "trem\n"
     ]
    }
   ],
   "source": [
    "lista = ['carro','moto','bicicleta','carro','caminhao','onibus','trem']\n",
    "print(lista)\n",
    "\n",
    "lista.remove('moto')\n",
    "print(lista)\n",
    "\n",
    "lista.append('metro')\n",
    "print(lista)\n",
    "\n",
    "item_pop = lista.pop(5) #somento indice\n",
    "print(lista)\n",
    "print(item_pop)"
   ]
  },
  {
   "cell_type": "markdown",
   "id": "f3f800cc",
   "metadata": {},
   "source": [
    "# try and except"
   ]
  },
  {
   "cell_type": "code",
   "execution_count": 28,
   "id": "9dcdee35",
   "metadata": {},
   "outputs": [
    {
     "name": "stdout",
     "output_type": "stream",
     "text": [
      "Esse item nao esta na lista\n",
      "['carro', 'bicicleta', 'carro', 'caminhao', 'onibus', 'metro']\n"
     ]
    }
   ],
   "source": [
    "try:\n",
    "    lista.remove('caminhão')     #tenta e se nao der , beleza\n",
    "except:\n",
    "    print('Esse item nao esta na lista')\n",
    "print(lista)"
   ]
  },
  {
   "cell_type": "markdown",
   "id": "ab586910",
   "metadata": {},
   "source": [
    "# Max and Min"
   ]
  },
  {
   "cell_type": "code",
   "execution_count": 39,
   "id": "9496ae4d",
   "metadata": {},
   "outputs": [
    {
     "name": "stdout",
     "output_type": "stream",
     "text": [
      "3241564\n",
      "100\n"
     ]
    }
   ],
   "source": [
    "lista = [1000,1500,100,200,300,500,806541,3241564]\n",
    "\n",
    "maior = max(lista)\n",
    "menor = min(lista)\n",
    "\n",
    "print(maior)\n",
    "print(menor)"
   ]
  },
  {
   "cell_type": "markdown",
   "id": "10468d32",
   "metadata": {},
   "source": [
    "# Extend and '+'"
   ]
  },
  {
   "cell_type": "code",
   "execution_count": 24,
   "id": "3a4b0a02",
   "metadata": {},
   "outputs": [
    {
     "name": "stdout",
     "output_type": "stream",
     "text": [
      "['agua', 'pau', 'biscoito', 'bolacha', 'suco', 'polpa']\n",
      "['agua', 'pau', 'biscoito', 'bolacha', 'suco', 'polpa']\n",
      "aguasuco\n"
     ]
    }
   ],
   "source": [
    "lista = ['agua','pau','biscoito','bolacha']\n",
    "lista2 = ['suco','polpa']\n",
    "lista3 = lista + lista2\n",
    "\n",
    "lista.extend(lista2)\n",
    "print(lista)\n",
    "print(lista3)\n",
    "lista4 = lista[0] + lista2[0]\n",
    "print(lista4)"
   ]
  },
  {
   "cell_type": "markdown",
   "id": "9db40e24",
   "metadata": {},
   "source": [
    "# sort"
   ]
  },
  {
   "cell_type": "code",
   "execution_count": 30,
   "id": "d3bd5f67",
   "metadata": {},
   "outputs": [
    {
     "name": "stdout",
     "output_type": "stream",
     "text": [
      "[3241564, 806541, 1500, 1000, 500, 300, 200, 100]\n"
     ]
    }
   ],
   "source": [
    "lista = [1000,1500,100,200,300,500,806541,3241564]\n",
    "lista.sort(reverse=True) #ordena \n",
    "print(lista)"
   ]
  },
  {
   "cell_type": "markdown",
   "id": "ef543b80",
   "metadata": {},
   "source": [
    "# join"
   ]
  },
  {
   "cell_type": "code",
   "execution_count": 45,
   "id": "63b90a57",
   "metadata": {},
   "outputs": [
    {
     "name": "stdout",
     "output_type": "stream",
     "text": [
      "['carro', 'moto', 'bicicleta', 'carro', 'caminhao', 'onibus', 'trem']\n",
      "carro, moto, bicicleta, carro, caminhao, onibus, trem\n",
      "\n",
      "carro\n",
      "moto\n",
      "bicicleta\n",
      "carro\n",
      "caminhao\n",
      "onibus\n",
      "trem\n"
     ]
    }
   ],
   "source": [
    "lista = ['carro','moto','bicicleta','carro','caminhao','onibus','trem']\n",
    "print(lista) \n",
    "print(', '.join(lista))\n",
    "print()\n",
    "print('\\n'.join(lista))"
   ]
  },
  {
   "cell_type": "markdown",
   "id": "0745c5ba",
   "metadata": {},
   "source": [
    "# Sum"
   ]
  },
  {
   "cell_type": "code",
   "execution_count": 51,
   "id": "a15d35c2",
   "metadata": {},
   "outputs": [
    {
     "name": "stdout",
     "output_type": "stream",
     "text": [
      "4,051,705.00\n"
     ]
    }
   ],
   "source": [
    "lista = [1000,1500,100,200,300,500,806541,3241564]\n",
    "print('{:,.2f}'.format(sum(lista)))"
   ]
  },
  {
   "cell_type": "markdown",
   "id": "51de1c87",
   "metadata": {},
   "source": [
    "# Encremento de variavel\n"
   ]
  },
  {
   "cell_type": "code",
   "execution_count": 2,
   "id": "fdfbc616",
   "metadata": {},
   "outputs": [
    {
     "name": "stdout",
     "output_type": "stream",
     "text": [
      "[100, 200, 300, 400]\n"
     ]
    }
   ],
   "source": [
    "lista = [100,200,300]\n",
    "lista += [400]\n",
    "print(lista)"
   ]
  },
  {
   "cell_type": "code",
   "execution_count": 5,
   "id": "10bbe67f",
   "metadata": {},
   "outputs": [
    {
     "name": "stdout",
     "output_type": "stream",
     "text": [
      "Me chamo Pedro tenho 20 anos\n"
     ]
    }
   ],
   "source": [
    "texto = 'Me chamo Pedro'\n",
    "texto += ' tenho 20 anos'\n",
    "print(texto)"
   ]
  },
  {
   "cell_type": "code",
   "execution_count": 6,
   "id": "b0a17271",
   "metadata": {},
   "outputs": [
    {
     "name": "stdout",
     "output_type": "stream",
     "text": [
      "2000\n"
     ]
    }
   ],
   "source": [
    "numero = 500\n",
    "numero += 1500\n",
    "print(numero)"
   ]
  },
  {
   "cell_type": "markdown",
   "id": "1ece6c5c",
   "metadata": {},
   "source": [
    "# .Copy or lista[:]"
   ]
  },
  {
   "cell_type": "code",
   "execution_count": 9,
   "id": "21c4191e",
   "metadata": {},
   "outputs": [
    {
     "name": "stdout",
     "output_type": "stream",
     "text": [
      "[1000, 1500, 100, 200, 300, 500, 806541, 120]\n",
      "[1000, 1500, 100, 200, 300, 500, 806541, 3241564]\n"
     ]
    }
   ],
   "source": [
    "lista = [1000,1500,100,200,300,500,806541,3241564]\n",
    "lista2 = lista.copy()\n",
    "lista[7] = 120\n",
    "print(lista)\n",
    "print(lista2)"
   ]
  },
  {
   "cell_type": "markdown",
   "id": "3d93e885",
   "metadata": {},
   "source": [
    "# For"
   ]
  },
  {
   "cell_type": "code",
   "execution_count": 9,
   "id": "f3b09d01",
   "metadata": {},
   "outputs": [
    {
     "name": "stdout",
     "output_type": "stream",
     "text": [
      "1000\n",
      "1500\n",
      "100\n",
      "200\n",
      "300\n",
      "500\n",
      "806541\n",
      "3241564\n"
     ]
    }
   ],
   "source": [
    "lista = [1000,1500,100,200,300,500,806541,3241564]\n",
    "\n",
    "for i in range(len(lista)):\n",
    "    print(lista[i])"
   ]
  },
  {
   "cell_type": "markdown",
   "id": "da01c598",
   "metadata": {},
   "source": [
    "# For \"Each\""
   ]
  },
  {
   "cell_type": "code",
   "execution_count": 5,
   "id": "58ffef9e",
   "metadata": {},
   "outputs": [
    {
     "name": "stdout",
     "output_type": "stream",
     "text": [
      "coca\n",
      "pepsi\n",
      "kuat\n",
      "fanta\n",
      " \n",
      "r\n",
      "e\n",
      "f\n",
      "r\n",
      "i\n"
     ]
    }
   ],
   "source": [
    "lista = ['coca','pepsi','kuat','fanta']\n",
    "texto = ' refri'\n",
    "\n",
    "for item in lista:   \n",
    "    print(item)\n",
    "    \n",
    "for ch in texto:\n",
    "    print(ch)"
   ]
  },
  {
   "cell_type": "markdown",
   "id": "4f40b84a",
   "metadata": {},
   "source": [
    "# Enumerate"
   ]
  },
  {
   "cell_type": "markdown",
   "id": "986ec9e6",
   "metadata": {},
   "source": [
    "Valor minimo = 50"
   ]
  },
  {
   "cell_type": "code",
   "execution_count": 11,
   "id": "7a054f7c",
   "metadata": {},
   "outputs": [
    {
     "name": "stdout",
     "output_type": "stream",
     "text": [
      "100 unidades de coca\n",
      "150 unidades de pepsi\n",
      "300 unidades de fanta\n",
      "50 unidades de suco\n",
      "51 unidades de polpa\n",
      "65 unidades de agua com gas\n"
     ]
    }
   ],
   "source": [
    "valores = [100,150,10,300,40,50,51,65]\n",
    "refri = ['coca','pepsi','kuat','fanta','agua','suco','polpa','agua com gas']\n",
    "\n",
    "for i,valor in enumerate(valores):\n",
    "    if valor >= 50:\n",
    "        print('{} unidades de {}'.format(valor,refri[i]))"
   ]
  },
  {
   "cell_type": "markdown",
   "id": "ba1f3b98",
   "metadata": {},
   "source": [
    "# for dentro de for\n"
   ]
  },
  {
   "cell_type": "code",
   "execution_count": 4,
   "id": "cbd080ca",
   "metadata": {},
   "outputs": [
    {
     "name": "stdout",
     "output_type": "stream",
     "text": [
      "coca cola\n",
      "coca cola\n",
      "coca cola\n",
      "coca cola\n",
      "coca cola\n",
      "coca cola\n",
      "pepsi\n",
      "pepsi\n",
      "fanta\n",
      "fanta\n",
      "fanta\n",
      "fanta\n",
      "fanta\n",
      "fanta\n",
      "fanta\n",
      "kuat\n",
      "kuat\n"
     ]
    }
   ],
   "source": [
    "estoque = [100,150,10,300,400,50,51,65],[1000,1500,100,200,300,500,806541,3241564],[100,150,10,300,40,50,51,65],[1000,1500,100,200,300,500,806541,3241564]\n",
    "empresas = ['coca cola','pepsi','fanta','kuat']\n",
    "valor_minimo = 200\n",
    "contagem = 0\n",
    "\n",
    "for i,items in enumerate(estoque):\n",
    "    for numbers in items:\n",
    "        if numbers <= valor_minimo:\n",
    "            print(empresas[i])\n"
   ]
  },
  {
   "cell_type": "markdown",
   "id": "561b8776",
   "metadata": {},
   "source": [
    "# While"
   ]
  },
  {
   "cell_type": "code",
   "execution_count": 4,
   "id": "22a4efdf",
   "metadata": {},
   "outputs": [
    {
     "name": "stdout",
     "output_type": "stream",
     "text": [
      "Digite o produto asd\n",
      "Digite o produto asd\n",
      "Digite o produto asdasdasd\n",
      "Digite o produto asdasdasd\n",
      "Digite o produto \n",
      "asd + asd + asdasdasd + asdasdasd\n"
     ]
    }
   ],
   "source": [
    "vendas = input('Digite o produto ')\n",
    "lista = []\n",
    "\n",
    "while vendas != '':\n",
    "    lista.append(vendas)\n",
    "    vendas = input('Digite o produto ')\n",
    "    \n",
    "print(' + '.join(lista))"
   ]
  },
  {
   "cell_type": "markdown",
   "id": "6d121d33",
   "metadata": {},
   "source": [
    "# Tuple"
   ]
  },
  {
   "cell_type": "code",
   "execution_count": 7,
   "id": "b8906ffd",
   "metadata": {},
   "outputs": [
    {
     "name": "stdout",
     "output_type": "stream",
     "text": [
      "135\n"
     ]
    }
   ],
   "source": [
    "tupla = ('pedro','01/06/2001',20)\n",
    "nome, ano, idade = tupla\n",
    "\n",
    "lista = [\n",
    "    ('pedro','01/06/2001',20),\n",
    "    ('pedro','01/06/2001',21),\n",
    "    ('pedro','01/06/2001',22),\n",
    "    ('pedro','01/06/2001',23),\n",
    "    ('pedro','01/06/2001',24),\n",
    "    ('pedro','01/06/2001',25),\n",
    "]\n",
    "age = 0\n",
    "\n",
    "for nome, ano, idade in lista:\n",
    "    age += idade\n",
    "print(age)"
   ]
  },
  {
   "cell_type": "markdown",
   "id": "d62685c9",
   "metadata": {},
   "source": [
    "# Dicionario"
   ]
  },
  {
   "cell_type": "code",
   "execution_count": 1,
   "id": "e957c3de",
   "metadata": {},
   "outputs": [
    {
     "name": "stdout",
     "output_type": "stream",
     "text": [
      "iphone\n"
     ]
    }
   ],
   "source": [
    "dicionario = {'tecnologia':'iphone','iphone':1500}\n",
    "print(dicionario['tecnologia'])"
   ]
  },
  {
   "cell_type": "markdown",
   "id": "825017af",
   "metadata": {},
   "source": [
    "# .get\n"
   ]
  },
  {
   "cell_type": "code",
   "execution_count": 3,
   "id": "e79ca6d7",
   "metadata": {},
   "outputs": [
    {
     "name": "stdout",
     "output_type": "stream",
     "text": [
      "1500\n",
      "None\n"
     ]
    }
   ],
   "source": [
    "print(dicionario.get('iphone'))\n",
    "print(dicionario.get('iphon'))"
   ]
  },
  {
   "cell_type": "markdown",
   "id": "47918746",
   "metadata": {},
   "source": [
    "# Adicionar , Modificar e remover\n"
   ]
  },
  {
   "cell_type": "code",
   "execution_count": 18,
   "id": "d21bed4d",
   "metadata": {},
   "outputs": [
    {
     "name": "stdout",
     "output_type": "stream",
     "text": [
      "{'tecnologia': 'iphone', 'iphone': 1500, 'ipad': 15000}\n",
      "{'tecnologia': 'iphone', 'iphone': 1500, 'ipad': 100}\n",
      "{'tecnologia': 'iphone', 'iphone': 1500}\n",
      "15000\n",
      "{}\n"
     ]
    }
   ],
   "source": [
    "dicionario = {'tecnologia':'iphone','iphone':1500}\n",
    "dicionario['ipad'] = 15000  #ADD\n",
    "print(dicionario)\n",
    "\n",
    "dicionario['ipad'] = 100  #Modifica\n",
    "print(dicionario)\n",
    "\n",
    "del dicionario['ipad']\n",
    "print(dicionario)\n",
    "\n",
    "dicionario['ipad'] = 15000\n",
    "\n",
    "#ou \n",
    "\n",
    "ipad = dicionario.pop('ipad')\n",
    "print(ipad)\n",
    "\n",
    "dicionario.clear()\n",
    "print(dicionario)"
   ]
  },
  {
   "cell_type": "markdown",
   "id": "0eac74e5",
   "metadata": {},
   "source": [
    "# for dentro de dicionarios"
   ]
  },
  {
   "cell_type": "code",
   "execution_count": 22,
   "id": "342f5492",
   "metadata": {},
   "outputs": [
    {
     "name": "stdout",
     "output_type": "stream",
     "text": [
      "tecnologia : iphone\n",
      "iphone : 1500\n",
      "ipad : 1000\n"
     ]
    }
   ],
   "source": [
    "dicionario = {'tecnologia':'iphone','iphone':1500,'ipad':1000}\n",
    "\n",
    "\n",
    "for chave in dicionario:\n",
    "    print('{} : {}'.format(chave,dicionario[chave]))"
   ]
  },
  {
   "cell_type": "code",
   "execution_count": 7,
   "id": "f0422fd5",
   "metadata": {},
   "outputs": [
    {
     "ename": "SyntaxError",
     "evalue": "invalid syntax (Temp/ipykernel_16060/1911291998.py, line 1)",
     "output_type": "error",
     "traceback": [
      "\u001b[1;36m  File \u001b[1;32m\"C:\\Users\\Peu\\AppData\\Local\\Temp/ipykernel_16060/1911291998.py\"\u001b[1;36m, line \u001b[1;32m1\u001b[0m\n\u001b[1;33m    for i in range(round(0,1000))\u001b[0m\n\u001b[1;37m                                 ^\u001b[0m\n\u001b[1;31mSyntaxError\u001b[0m\u001b[1;31m:\u001b[0m invalid syntax\n"
     ]
    }
   ],
   "source": []
  },
  {
   "cell_type": "markdown",
   "id": "db3d6f1f",
   "metadata": {},
   "source": [
    "# .items( )"
   ]
  },
  {
   "cell_type": "code",
   "execution_count": 14,
   "id": "6c2bb825",
   "metadata": {},
   "outputs": [
    {
     "name": "stdout",
     "output_type": "stream",
     "text": [
      "dict_items([('tecnologia', 'iphone'), ('iphone', 1500), ('ipad', 1000)])\n",
      "\n",
      "tecnologia vendeu iphone\n",
      "iphone vendeu 1500\n",
      "ipad vendeu 1000\n"
     ]
    }
   ],
   "source": [
    "dicionario = {'tecnologia':'iphone','iphone':1500,'ipad':1000}\n",
    "\n",
    "print(dicionario.items()) #Transforma em Tupla\n",
    "\n",
    "print()\n",
    "for item1,item2 in dicionario.items():\n",
    "    print('{} vendeu {}'.format(item1,item2))"
   ]
  },
  {
   "cell_type": "markdown",
   "id": "3c792cd8",
   "metadata": {},
   "source": [
    "# keys and Values *Sort"
   ]
  },
  {
   "cell_type": "code",
   "execution_count": 34,
   "id": "da806b16",
   "metadata": {},
   "outputs": [
    {
     "name": "stdout",
     "output_type": "stream",
     "text": [
      "dict_keys(['tecnologia', 'iphone', 'ipad', 'pedrofone'])\n",
      "dict_values(['iphone', 1500, 1000, 450])\n",
      "\n",
      "['tecnologia', 'iphone', 'ipad', 'pedrofone']\n",
      "['iphone', 1500, 1000, 450]\n",
      "\n",
      "['aaaaaaaaaaaaaa', 'bbbbbbbbbb', 'ggggggggggggggg', 'ssssssssssssss', 'zzzzzzzzzz']\n"
     ]
    }
   ],
   "source": [
    "dicionario = {'tecnologia':'iphone','iphone':1500,'ipad':1000,'pedrofone':450}\n",
    "\n",
    "chave = dicionario.keys()  #imprime as chaves de um dicionario\n",
    "print(chave)\n",
    "\n",
    "valores = dicionario.values()  #imprime os valores de um dicionario \n",
    "print(valores)\n",
    "\n",
    "print()\n",
    "print(list(chave))   #transforma e uma lista de fato\n",
    "print(list(valores))\n",
    "\n",
    "\n",
    "\n",
    "print()\n",
    "lista = ['zzzzzzzzzz','ssssssssssssss','aaaaaaaaaaaaaa','ggggggggggggggg','bbbbbbbbbb']\n",
    "\n",
    "lista.sort()\n",
    "print(lista)"
   ]
  },
  {
   "cell_type": "markdown",
   "id": "75af4d39",
   "metadata": {},
   "source": [
    "# dict.fromkeys( )  and dict( )   &  zip( )"
   ]
  },
  {
   "cell_type": "code",
   "execution_count": 4,
   "id": "d6e028c4",
   "metadata": {},
   "outputs": [
    {
     "name": "stdout",
     "output_type": "stream",
     "text": [
      "{'coca': 0, 'pepsi': 0, 'kuat': 0, 'fanta': 0, 'agua': 0, 'suco': 0, 'polpa': 0, 'agua com gas': 0}\n",
      "\n",
      "coca 100\n",
      "pepsi 150\n",
      "kuat 10\n",
      "fanta 300\n",
      "agua 40\n",
      "suco 50\n",
      "polpa 51\n",
      "agua com gas 65\n",
      "{'coca': 100, 'pepsi': 150, 'kuat': 10, 'fanta': 300, 'agua': 40, 'suco': 50, 'polpa': 51, 'agua com gas': 65}\n",
      "65\n"
     ]
    }
   ],
   "source": [
    "refri = ['coca','pepsi','kuat','fanta','agua','suco','polpa','agua com gas']\n",
    "valores = [100,150,10,300,40,50,51,65]\n",
    "\n",
    "dicionario = dict.fromkeys(refri,0)  #transforma uma lista em dicionario com valores fixos para todas as chaves\n",
    "print(dicionario)\n",
    "print()\n",
    "\n",
    "tupla = zip(refri,valores)  #Transforma 2 listas em uma tupla\n",
    "for item,i in tupla:\n",
    "    print('{} {}'.format(item,i))\n",
    "\n",
    "    \n",
    "tupla = zip(refri,valores)\n",
    "dicionario_tupla = dict(tupla) #Transforma uma tupla em dicionario\n",
    "print(dicionario_tupla)\n",
    "print(dicionario_tupla['agua com gas'])"
   ]
  },
  {
   "cell_type": "markdown",
   "id": "d107d76c",
   "metadata": {},
   "source": [
    "# Set\n"
   ]
  },
  {
   "cell_type": "code",
   "execution_count": 6,
   "id": "9b2188f0",
   "metadata": {},
   "outputs": [
    {
     "name": "stdout",
     "output_type": "stream",
     "text": [
      "11\n",
      "8\n",
      "8\n"
     ]
    }
   ],
   "source": [
    "refri = ['coca','pepsi','kuat','fanta','agua','suco','polpa','agua com gas','coca','pepsi','kuat']\n",
    "set_refri = {'coca','pepsi','kuat','fanta','agua','suco','polpa','agua com gas','coca','pepsi','kuat'}   #Set lista com '{}'\n",
    "  \n",
    "print(len(refri))\n",
    "print(len(setRefri))           #O set nao considera itens repetidos , ou seja, da pra fazer isso:\n",
    "\n",
    "refri = list(set_refri)\n",
    "print(len(refri))\n",
    "\n",
    "#set()"
   ]
  },
  {
   "cell_type": "markdown",
   "id": "310655cc",
   "metadata": {},
   "source": [
    "# Function"
   ]
  },
  {
   "cell_type": "code",
   "execution_count": 18,
   "id": "3e042483",
   "metadata": {},
   "outputs": [],
   "source": [
    "def contratar_pessoas():\n",
    "    pessoa = input('Digite seu nome: ')\n",
    "    lista_pessoas = []\n",
    "    lista_pessoas.append(pessoa)\n",
    "    return lista_pessoas"
   ]
  },
  {
   "cell_type": "code",
   "execution_count": 19,
   "id": "f2ea5957",
   "metadata": {},
   "outputs": [
    {
     "name": "stdout",
     "output_type": "stream",
     "text": [
      "Digite seu nome: Pedro\n"
     ]
    },
    {
     "data": {
      "text/plain": [
       "['Pedro']"
      ]
     },
     "execution_count": 19,
     "metadata": {},
     "output_type": "execute_result"
    }
   ],
   "source": [
    "contratar_pessoas()"
   ]
  },
  {
   "cell_type": "code",
   "execution_count": 3,
   "id": "a3e080e5",
   "metadata": {},
   "outputs": [
    {
     "data": {
      "text/plain": [
       "30"
      ]
     },
     "execution_count": 3,
     "metadata": {},
     "output_type": "execute_result"
    }
   ],
   "source": [
    "def soma(num1num2):\n",
    "    return ,num1 + num2\n",
    "\n",
    "soma(10,20)"
   ]
  },
  {
   "cell_type": "code",
   "execution_count": 6,
   "id": "e207b534",
   "metadata": {},
   "outputs": [
    {
     "name": "stdout",
     "output_type": "stream",
     "text": [
      "['  abc124 ', 'asd154 ', '  AvS124']\n"
     ]
    }
   ],
   "source": [
    "def produtos(lista, padrao = 'm'):\n",
    "    for i, item in enumerate(lista):\n",
    "        item =item.replace('  ',' ')\n",
    "        item = item.strip()\n",
    "        if padrao == 'm':\n",
    "            item = item.casefold()\n",
    "        elif padrao == 'M':\n",
    "            ititem.upper()\n",
    "        lista[i] = item\n",
    "    return lista\n",
    "\n",
    "        \n",
    "lista = ['  abc124 ','asd154 ','  AvS124']\n",
    "\n",
    "print(produtos(lista,'M'))"
   ]
  },
  {
   "cell_type": "markdown",
   "id": "8bcf5e4c",
   "metadata": {},
   "source": [
    "# Sep"
   ]
  },
  {
   "cell_type": "code",
   "execution_count": 10,
   "id": "6b1c2a93",
   "metadata": {},
   "outputs": [
    {
     "name": "stdout",
     "output_type": "stream",
     "text": [
      "texto1\n",
      "texto2\n",
      "texto3\n"
     ]
    }
   ],
   "source": [
    "print('texto1','texto2','texto3' ,sep = '\\n')"
   ]
  },
  {
   "cell_type": "markdown",
   "id": "ba6dfa0b",
   "metadata": {},
   "source": [
    "# Function com varios argumentos"
   ]
  },
  {
   "cell_type": "code",
   "execution_count": 10,
   "id": "3ad1c682",
   "metadata": {},
   "outputs": [
    {
     "name": "stdout",
     "output_type": "stream",
     "text": [
      "(10, 20, 30, 40)\n"
     ]
    },
    {
     "data": {
      "text/plain": [
       "100"
      ]
     },
     "execution_count": 10,
     "metadata": {},
     "output_type": "execute_result"
    }
   ],
   "source": [
    "def funcao(*args): #' * ' pode ser usado para uma funcao ter argumentos infinitos, recebe como uma tupla\n",
    "    ''' recebe args numeros inteiros\n",
    "    soma todos eles\n",
    "    e retorna'''        #Docstring\n",
    "    print(args)\n",
    "    return sum(args)\n",
    "\n",
    "funcao(10,20,30,40)"
   ]
  },
  {
   "cell_type": "code",
   "execution_count": 12,
   "id": "2f68e8bc",
   "metadata": {},
   "outputs": [
    {
     "name": "stdout",
     "output_type": "stream",
     "text": [
      "{'dicionario': 50, 'dicionarios': 50}\n"
     ]
    },
    {
     "data": {
      "text/plain": [
       "100"
      ]
     },
     "execution_count": 12,
     "metadata": {},
     "output_type": "execute_result"
    }
   ],
   "source": [
    "def funcao1(**kwargs):   #' ** ' pode ser usado para uma funcao ter chaves / argumentos infinitos, recebe como um dicionario\n",
    "    print(kwargs)\n",
    "    if 'dicionario' in kwargs:\n",
    "        kwargs = kwargs['dicionario'] + kwargs['dicionarios']\n",
    "    return kwargs\n",
    "\n",
    "funcao1(dicionario = 50,dicionarios = 50)"
   ]
  },
  {
   "cell_type": "markdown",
   "id": "1aa5ae97",
   "metadata": {},
   "source": [
    "# Sequencia de utilização do args e kwargs "
   ]
  },
  {
   "cell_type": "markdown",
   "id": "68debf4c",
   "metadata": {},
   "source": [
    "def minha_funcao(arg1, arg2, arg3, *args, k = 1, k = 2, **kwargs)\n",
    "..."
   ]
  },
  {
   "cell_type": "markdown",
   "id": "5095e5d4",
   "metadata": {},
   "source": [
    "# POO"
   ]
  },
  {
   "cell_type": "code",
   "execution_count": 4,
   "id": "21cb6078",
   "metadata": {},
   "outputs": [
    {
     "data": {
      "text/plain": [
       "True"
      ]
     },
     "execution_count": 4,
     "metadata": {},
     "output_type": "execute_result"
    }
   ],
   "source": [
    "import webbrowser as wb\n",
    "wb.open('https://www.google.com')"
   ]
  },
  {
   "cell_type": "code",
   "execution_count": 45,
   "id": "554cf87e",
   "metadata": {},
   "outputs": [
    {
     "name": "stdout",
     "output_type": "stream",
     "text": [
      "1645816551.4777153\n",
      "Fri Feb 25 16:15:51 2022\n"
     ]
    }
   ],
   "source": [
    "import time \n",
    "tempo_hoje = time.time()   #mostra os segundos ate hj\n",
    "print(tempo_hoje)\n",
    "\n",
    "tempo = time.ctime()      #mostra o tempo de hoje formatado\n",
    "print(tempo)"
   ]
  },
  {
   "cell_type": "code",
   "execution_count": 78,
   "id": "54de1c84",
   "metadata": {},
   "outputs": [
    {
     "name": "stdout",
     "output_type": "stream",
     "text": [
      "time.struct_time(tm_year=2022, tm_mon=2, tm_mday=25, tm_hour=19, tm_min=23, tm_sec=56, tm_wday=4, tm_yday=56, tm_isdst=0)\n"
     ]
    }
   ],
   "source": [
    "data_atual = time.gmtime()\n",
    "print(data_atual)\n",
    "#                                                                                RANGE[0,6] SENDO SEG 0   \n",
    "#                    ANO          MES        DIA        HORA         MIN      SEC     DIA SEMANA   DIA ANO     "
   ]
  },
  {
   "cell_type": "code",
   "execution_count": 44,
   "id": "4c1752b1",
   "metadata": {},
   "outputs": [
    {
     "name": "stdout",
     "output_type": "stream",
     "text": [
      "Demorou 5 segundos\n"
     ]
    }
   ],
   "source": [
    "time.sleep(5)\n",
    "print('Demorou 5 segundos')"
   ]
  },
  {
   "cell_type": "markdown",
   "id": "78bda43c",
   "metadata": {},
   "source": [
    "# list comprehension"
   ]
  },
  {
   "cell_type": "code",
   "execution_count": 5,
   "id": "217ef8b4",
   "metadata": {},
   "outputs": [
    {
     "name": "stdout",
     "output_type": "stream",
     "text": [
      "[30.0, 45.0, 60.0, 105.0, 180.0]\n"
     ]
    }
   ],
   "source": [
    "precos = [100,150,200,350,600]\n",
    "\n",
    "imposto = [item * 0.3 for item in precos]\n",
    "print(imposto)"
   ]
  },
  {
   "cell_type": "code",
   "execution_count": 8,
   "id": "1b430464",
   "metadata": {},
   "outputs": [
    {
     "name": "stdout",
     "output_type": "stream",
     "text": [
      "[(200, 'ph'), (350, 'pedrin'), (600, 'peuzin')]\n"
     ]
    }
   ],
   "source": [
    "meta = 200\n",
    "precos = [100,150,200,350,600]\n",
    "pessoas = ['pedro','peu','ph','pedrin','peuzin']\n",
    "\n",
    "pessoas_meta = [(precos[preco], pessoa) for preco, pessoa in enumerate(pessoas) if precos[preco] >= meta]\n",
    "print(pessoas_meta)"
   ]
  },
  {
   "cell_type": "code",
   "execution_count": 10,
   "id": "23030a49",
   "metadata": {},
   "outputs": [
    {
     "name": "stdout",
     "output_type": "stream",
     "text": [
      "[0, 0, (220.0, 'ph'), (385.0, 'pedrin'), (660.0, 'peuzin')]\n"
     ]
    }
   ],
   "source": [
    "meta = 200\n",
    "precos = [100,150,200,350,600]\n",
    "pessoas = ['pedro','peu','ph','pedrin','peuzin']\n",
    "\n",
    "bateram_meta = [(precos[preco] + (precos[preco] * 0.1), pessoa) if precos[preco] >= meta else 0 for preco, pessoa in enumerate(pessoas)]\n",
    "print(bateram_meta)"
   ]
  },
  {
   "cell_type": "code",
   "execution_count": 2,
   "id": "ccb9137f",
   "metadata": {},
   "outputs": [
    {
     "name": "stdout",
     "output_type": "stream",
     "text": [
      "2300\n"
     ]
    }
   ],
   "source": [
    "meta = 160\n",
    "precos = [100,150,200,350,600,100,150,200,350,600]\n",
    "\n",
    "soma_meta = sum(valor for valor in precos if valor >= meta)\n",
    "print(soma_meta)"
   ]
  },
  {
   "cell_type": "markdown",
   "id": "ccfef556",
   "metadata": {},
   "source": [
    "# map\n",
    "##### lista = list(map(function, iterable))"
   ]
  },
  {
   "cell_type": "code",
   "execution_count": 25,
   "id": "7402ee3d",
   "metadata": {},
   "outputs": [],
   "source": [
    "def organizar(item):\n",
    "    item = item.upper()\n",
    "    item = item.replace('  ',' ')\n",
    "    item = item.strip()\n",
    "    return item\n",
    "\n",
    "precos = ['Bas123 ','Pos257  ',' Pra574', ' goR578']"
   ]
  },
  {
   "cell_type": "code",
   "execution_count": 26,
   "id": "e3662693",
   "metadata": {},
   "outputs": [
    {
     "name": "stdout",
     "output_type": "stream",
     "text": [
      "['BAS123', 'POS257', 'PRA574', 'GOR578']\n"
     ]
    }
   ],
   "source": [
    "produtos = list(map(organizar,precos))\n",
    "print(produtos)"
   ]
  },
  {
   "cell_type": "markdown",
   "id": "1da525ad",
   "metadata": {},
   "source": [
    "# sort or sorted"
   ]
  },
  {
   "cell_type": "code",
   "execution_count": 61,
   "id": "fba21488",
   "metadata": {},
   "outputs": [
    {
     "name": "stdout",
     "output_type": "stream",
     "text": [
      "[('LG', 650), ('Samsung', 240), ('hawuei', 300), ('iphone', 550), ('xiaomi', 540)]\n"
     ]
    }
   ],
   "source": [
    "produtos = {'iphone': 550, 'Samsung': 240, 'xiaomi': 540, 'LG': 650, 'hawuei': 300}\n",
    "lista_produtos = list(produtos.items()) \n",
    "lista_produtos.sort()\n",
    "print(lista_produtos)     #Imprime em ordem pela tabela ACII"
   ]
  },
  {
   "cell_type": "code",
   "execution_count": 62,
   "id": "1fbd524a",
   "metadata": {},
   "outputs": [
    {
     "name": "stdout",
     "output_type": "stream",
     "text": [
      "[('Samsung', 240), ('hawuei', 300), ('xiaomi', 540), ('iphone', 550), ('LG', 650)]\n"
     ]
    }
   ],
   "source": [
    "def produtos (tupla):\n",
    "    '''funcao que retorna o 2º item de uma tupla'''\n",
    "    return tupla[1]\n",
    "lista_produtos.sort(key = produtos)  #Sort esta recebendo a funcao produtos() e aplicando a cada item da lista[tupla()]\n",
    "print(lista_produtos)"
   ]
  },
  {
   "cell_type": "code",
   "execution_count": 49,
   "id": "7de1bdf5",
   "metadata": {},
   "outputs": [
    {
     "name": "stdout",
     "output_type": "stream",
     "text": [
      "['Coca', 'Fanta', 'Pepsi', 'Suco', 'agua', 'agua com gas', 'coca', 'kuat', 'kuat', 'pepsi', 'polpa']\n",
      "['agua', 'agua com gas', 'Coca', 'coca', 'Fanta', 'kuat', 'kuat', 'Pepsi', 'pepsi', 'polpa', 'Suco']\n",
      "\n",
      "['Coca', 'Fanta', 'Pepsi', 'Suco', 'agua', 'agua com gas', 'coca', 'kuat', 'kuat', 'pepsi', 'polpa']\n"
     ]
    }
   ],
   "source": [
    "refri = ['Coca','Pepsi','kuat','Fanta','agua','Suco','polpa','agua com gas','coca','pepsi','kuat']\n",
    "refri.sort()\n",
    "print(refri)\n",
    "refri.sort(key = str.casefold)  #faz com que o .sort() aplique a funcao em cada item da lista, nesse caso ignorando se a primeira letra esta maiscula e printando em ordem alfabetica \n",
    "print(refri)\n",
    "print()\n",
    "\n",
    "nova_lista_refri = sorted(refri)   #Cria uma nova lista com a lista antiga com o .sort()\n",
    "print(nova_lista_refri)"
   ]
  },
  {
   "cell_type": "markdown",
   "id": "c6b2b1f0",
   "metadata": {},
   "source": [
    "# Lambda expresion "
   ]
  },
  {
   "cell_type": "code",
   "execution_count": 65,
   "id": "59c6e9e6",
   "metadata": {},
   "outputs": [
    {
     "name": "stdout",
     "output_type": "stream",
     "text": [
      "25\n"
     ]
    }
   ],
   "source": [
    "minha_funcao = lambda num: num * 5   #Lambda é uma funcao de uma unica linha de codigo \n",
    "print(minha_funcao(5))"
   ]
  },
  {
   "cell_type": "code",
   "execution_count": 67,
   "id": "a5c24734",
   "metadata": {},
   "outputs": [
    {
     "name": "stdout",
     "output_type": "stream",
     "text": [
      "464.40000000000003\n"
     ]
    }
   ],
   "source": [
    "imposto = 0.8\n",
    "\n",
    "apli_imposto = lambda num: num * (1 + imposto)\n",
    "print(apli_imposto(258))"
   ]
  },
  {
   "cell_type": "markdown",
   "id": "c6b5ff2f",
   "metadata": {},
   "source": [
    "# lambda + map\n"
   ]
  },
  {
   "cell_type": "code",
   "execution_count": 90,
   "id": "356e7ddf",
   "metadata": {},
   "outputs": [
    {
     "name": "stdout",
     "output_type": "stream",
     "text": [
      "[715.0, 312.0, 702.0, 845.0, 390.0]\n"
     ]
    }
   ],
   "source": [
    "produtos = {'iphone': 550, 'Samsung': 240, 'xiaomi': 540, 'LG': 650, 'hawuei': 300}\n",
    "\n",
    "imposto_produtos = list(map(lambda valor: valor * 1.3, list(produtos.values())))  #lambda returna uma conta\n",
    "print(imposto_produtos)"
   ]
  },
  {
   "cell_type": "markdown",
   "id": "46dabf53",
   "metadata": {},
   "source": [
    "# Filter + lambda"
   ]
  },
  {
   "cell_type": "code",
   "execution_count": 13,
   "id": "228f4e8c",
   "metadata": {},
   "outputs": [
    {
     "name": "stdout",
     "output_type": "stream",
     "text": [
      "[('iphone', 550), ('xiaomi', 540), ('LG', 650)]\n"
     ]
    }
   ],
   "source": [
    "meta = 500\n",
    "produtos = {'iphone': 550, 'Samsung': 240, 'xiaomi': 540, 'LG': 650, 'hawuei': 300}\n",
    "\n",
    "meta_produtos = list(filter(lambda valor: valor[1] > meta, produtos.items()))   #Filter retorna true or not\n",
    "print(meta_produtos)"
   ]
  },
  {
   "cell_type": "markdown",
   "id": "322b171f",
   "metadata": {},
   "source": [
    "# Lambda dentro de function"
   ]
  },
  {
   "cell_type": "code",
   "execution_count": 107,
   "id": "5e5249b6",
   "metadata": {},
   "outputs": [],
   "source": [
    "def calcular_imposto(imposto):\n",
    "    return lambda preco: preco * (1 + imposto)    #Funcao que cria outras funcoes dentro dela com lambda"
   ]
  },
  {
   "cell_type": "code",
   "execution_count": 105,
   "id": "2029439f",
   "metadata": {},
   "outputs": [],
   "source": [
    "imposto_produto = calcular_imposto(0.3)\n",
    "imposto_servico = calcular_imposto(0.8)"
   ]
  },
  {
   "cell_type": "code",
   "execution_count": 106,
   "id": "12834e43",
   "metadata": {},
   "outputs": [
    {
     "name": "stdout",
     "output_type": "stream",
     "text": [
      "585.0\n",
      "2790.0\n"
     ]
    }
   ],
   "source": [
    "print(imposto_produto(450))\n",
    "print(imposto_servico(1550))"
   ]
  }
 ],
 "metadata": {
  "kernelspec": {
   "display_name": "Python 3 (ipykernel)",
   "language": "python",
   "name": "python3"
  },
  "language_info": {
   "codemirror_mode": {
    "name": "ipython",
    "version": 3
   },
   "file_extension": ".py",
   "mimetype": "text/x-python",
   "name": "python",
   "nbconvert_exporter": "python",
   "pygments_lexer": "ipython3",
   "version": "3.11.3"
  }
 },
 "nbformat": 4,
 "nbformat_minor": 5
}
