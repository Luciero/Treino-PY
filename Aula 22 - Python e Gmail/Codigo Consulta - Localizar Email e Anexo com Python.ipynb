{
 "cells": [
  {
   "cell_type": "code",
   "execution_count": 1,
   "id": "46d8e6fd",
   "metadata": {},
   "outputs": [],
   "source": [
    "from imap_tools import MailBox, AND\n",
    "\n",
    "usuario = \"pedrohnp016@gmail.com\"\n",
    "senha = \"ppavsigtkyizfabp\"\n",
    "\n",
    "meu_email = MailBox('imap.gmail.com').login(usuario,senha)"
   ]
  },
  {
   "cell_type": "code",
   "execution_count": 7,
   "id": "91934f55",
   "metadata": {},
   "outputs": [
    {
     "name": "stdout",
     "output_type": "stream",
     "text": [
      "financeiro\n",
      "\r\n",
      "\n"
     ]
    }
   ],
   "source": [
    "lista_emails = meu_email.fetch(AND(from_=\"pedrohnp016@gmail.com\"))\n",
    "for email in lista_emails:\n",
    "    if email.subject == \"financeiro\":\n",
    "        print(email.subject)\n",
    "        print(email.text)    "
   ]
  },
  {
   "cell_type": "code",
   "execution_count": 8,
   "id": "8b344385",
   "metadata": {},
   "outputs": [],
   "source": [
    "# Pegar o arquivo no email e baixar-lo\n",
    "lista_emails = meu_email.fetch(AND(from_=\"pedrohnp016@gmail.com\"))\n",
    "for email in lista_emails:\n",
    "    if len(email.attachments) > 0:\n",
    "        for anexo in email.attachments:\n",
    "            if \"financeiro\" in email.subject:\n",
    "                informacoes_anexo = anexo.payload\n",
    "                with open(\"Financeiro.xlsx\", \"wb\") as arquivo_excel:\n",
    "                    arquivo_excel.write(informacoes_anexo)\n",
    "                "
   ]
  }
 ],
 "metadata": {
  "kernelspec": {
   "display_name": "Python 3 (ipykernel)",
   "language": "python",
   "name": "python3"
  },
  "language_info": {
   "codemirror_mode": {
    "name": "ipython",
    "version": 3
   },
   "file_extension": ".py",
   "mimetype": "text/x-python",
   "name": "python",
   "nbconvert_exporter": "python",
   "pygments_lexer": "ipython3",
   "version": "3.11.3"
  }
 },
 "nbformat": 4,
 "nbformat_minor": 5
}
