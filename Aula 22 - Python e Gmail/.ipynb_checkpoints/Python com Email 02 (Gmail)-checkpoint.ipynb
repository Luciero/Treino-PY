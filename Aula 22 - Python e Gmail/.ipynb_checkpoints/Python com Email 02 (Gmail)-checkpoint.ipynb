{
 "cells": [
  {
   "cell_type": "markdown",
   "metadata": {},
   "source": [
    "# Biblio necessarias"
   ]
  },
  {
   "cell_type": "code",
   "execution_count": 1,
   "metadata": {},
   "outputs": [],
   "source": [
    "import os \n",
    "import smtplib\n",
    "from email.message import EmailMessage"
   ]
  },
  {
   "cell_type": "markdown",
   "metadata": {},
   "source": [
    "## Email"
   ]
  },
  {
   "cell_type": "code",
   "execution_count": 2,
   "metadata": {},
   "outputs": [],
   "source": [
    "email = 'pedrohnp016@gmail.com'"
   ]
  },
  {
   "cell_type": "markdown",
   "metadata": {},
   "source": [
    "## Senha de app"
   ]
  },
  {
   "cell_type": "code",
   "execution_count": 3,
   "metadata": {},
   "outputs": [
    {
     "data": {
      "text/plain": [
       "'jrlxpkjlonjdmlvr'"
      ]
     },
     "execution_count": 3,
     "metadata": {},
     "output_type": "execute_result"
    }
   ],
   "source": [
    "with open('Senha.txt') as f:\n",
    "    \n",
    "    senha = f.readlines()\n",
    "    \n",
    "    f.close()\n",
    "    \n",
    "senha_do_email = senha[0]\n",
    "\n",
    "senha_do_email"
   ]
  },
  {
   "cell_type": "markdown",
   "metadata": {},
   "source": [
    "### Enviando E-mail"
   ]
  },
  {
   "cell_type": "code",
   "execution_count": 4,
   "metadata": {},
   "outputs": [],
   "source": [
    "msg = EmailMessage()\n",
    "msg['Subject'] = 'Enviando o primerio email com PY'\n",
    "msg['From'] = 'pedrohnp016@gmail.com'\n",
    "msg['To'] = 'pedrohnp016@gmail.com'\n",
    "msg.set_content('Segue o relatorio Diario')"
   ]
  },
  {
   "cell_type": "code",
   "execution_count": 5,
   "metadata": {},
   "outputs": [],
   "source": [
    "with smtplib.SMTP_SSL('smtp.gmail.com', 465 ) as smtp:\n",
    "    \n",
    "    smtp.login(email,senha_do_email)\n",
    "    smtp.send_message(msg)"
   ]
  },
  {
   "cell_type": "markdown",
   "metadata": {},
   "source": [
    "### Enviando E-mail com Anexo(s)"
   ]
  },
  {
   "cell_type": "code",
   "execution_count": 1,
   "metadata": {},
   "outputs": [
    {
     "ename": "NameError",
     "evalue": "name 'msg' is not defined",
     "output_type": "error",
     "traceback": [
      "\u001b[1;31m---------------------------------------------------------------------------\u001b[0m",
      "\u001b[1;31mNameError\u001b[0m                                 Traceback (most recent call last)",
      "Cell \u001b[1;32mIn[1], line 3\u001b[0m\n\u001b[0;32m      1\u001b[0m \u001b[38;5;28;01mwith\u001b[39;00m \u001b[38;5;28mopen\u001b[39m(\u001b[38;5;124m'\u001b[39m\u001b[38;5;124mFinanceiro.xlsx\u001b[39m\u001b[38;5;124m'\u001b[39m,\u001b[38;5;124m'\u001b[39m\u001b[38;5;124mrb\u001b[39m\u001b[38;5;124m'\u001b[39m) \u001b[38;5;28;01mas\u001b[39;00m content_file:\n\u001b[0;32m      2\u001b[0m     content \u001b[38;5;241m=\u001b[39m content_file\u001b[38;5;241m.\u001b[39mread()\n\u001b[1;32m----> 3\u001b[0m     msg\u001b[38;5;241m.\u001b[39madd_attachment(content, maintype \u001b[38;5;241m=\u001b[39m \u001b[38;5;124m'\u001b[39m\u001b[38;5;124mapplication\u001b[39m\u001b[38;5;124m'\u001b[39m, subtype \u001b[38;5;241m=\u001b[39m \u001b[38;5;124m'\u001b[39m\u001b[38;5;124mxlsx\u001b[39m\u001b[38;5;124m'\u001b[39m, filename \u001b[38;5;241m=\u001b[39m \u001b[38;5;124m'\u001b[39m\u001b[38;5;124mFinanceiro.xlsx\u001b[39m\u001b[38;5;124m'\u001b[39m)\n\u001b[0;32m      5\u001b[0m \u001b[38;5;28;01mwith\u001b[39;00m smtplib\u001b[38;5;241m.\u001b[39mSMTP_SSL(\u001b[38;5;124m'\u001b[39m\u001b[38;5;124msmtp.gmail.com\u001b[39m\u001b[38;5;124m'\u001b[39m, \u001b[38;5;241m465\u001b[39m ) \u001b[38;5;28;01mas\u001b[39;00m smtp:\n\u001b[0;32m      7\u001b[0m     smtp\u001b[38;5;241m.\u001b[39mlogin(email,senha_do_email)\n",
      "\u001b[1;31mNameError\u001b[0m: name 'msg' is not defined"
     ]
    }
   ],
   "source": [
    "with open('Financeiro.xlsx','rb') as content_file:\n",
    "    content = content_file.read()\n",
    "    msg.add_attachment(content, maintype = 'application', subtype = 'xlsx', filename = 'Financeiro.xlsx')\n",
    "\n",
    "with smtplib.SMTP_SSL('smtp.gmail.com', 465 ) as smtp:\n",
    "    \n",
    "    smtp.login(email,senha_do_email)\n",
    "    smtp.send_message(msg)"
   ]
  },
  {
   "cell_type": "markdown",
   "metadata": {},
   "source": [
    "### Cópia, mais de 1 destinatário e outras variações"
   ]
  },
  {
   "cell_type": "code",
   "execution_count": null,
   "metadata": {},
   "outputs": [],
   "source": []
  },
  {
   "cell_type": "markdown",
   "metadata": {},
   "source": [
    "### Personalizando o texto do e-mail\n",
    "\n",
    "- Com Python normal"
   ]
  },
  {
   "cell_type": "code",
   "execution_count": 7,
   "metadata": {},
   "outputs": [],
   "source": [
    "msg = EmailMessage()\n",
    "corpo_email = '''\n",
    "    Ola me chamo Pedro\n",
    "    Este é um email para tester\n",
    "    Att.,\n",
    "    Pedrin\n",
    "'''\n",
    "#-----------Caso dê algo errado pode ser colocar como uma lista-----------\n",
    "#corpo_email = [\n",
    "# 'texto1....',\n",
    "# 'texto2....',\n",
    "#]\n",
    "#corpo_email = '\\n'.join(corpo_email)\n",
    "\n",
    "msg['Subject'] = 'Enviando o primerio email com PY'\n",
    "msg['From'] = 'pedrohnp016@gmail.com'\n",
    "msg['To'] = 'pedrohnp016@gmail.com'\n",
    "msg.set_content(corpo_email)\n",
    "\n",
    "with smtplib.SMTP_SSL('smtp.gmail.com', 465 ) as smtp:\n",
    "    \n",
    "    smtp.login(email,senha_do_email)\n",
    "    smtp.send_message(msg)"
   ]
  },
  {
   "cell_type": "markdown",
   "metadata": {},
   "source": [
    "- Com HTML"
   ]
  },
  {
   "cell_type": "code",
   "execution_count": null,
   "metadata": {},
   "outputs": [],
   "source": []
  }
 ],
 "metadata": {
  "kernelspec": {
   "display_name": "Python 3 (ipykernel)",
   "language": "python",
   "name": "python3"
  },
  "language_info": {
   "codemirror_mode": {
    "name": "ipython",
    "version": 3
   },
   "file_extension": ".py",
   "mimetype": "text/x-python",
   "name": "python",
   "nbconvert_exporter": "python",
   "pygments_lexer": "ipython3",
   "version": "3.11.3"
  }
 },
 "nbformat": 4,
 "nbformat_minor": 4
}
