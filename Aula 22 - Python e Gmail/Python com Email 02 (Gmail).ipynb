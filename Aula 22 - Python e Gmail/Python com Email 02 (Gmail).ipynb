{
 "cells": [
  {
   "cell_type": "markdown",
   "metadata": {},
   "source": [
    "# Biblio necessarias"
   ]
  },
  {
   "cell_type": "code",
   "execution_count": 5,
   "metadata": {},
   "outputs": [],
   "source": [
    "import os \n",
    "import smtplib\n",
    "from email.message import EmailMessage"
   ]
  },
  {
   "cell_type": "markdown",
   "metadata": {},
   "source": [
    "## Email"
   ]
  },
  {
   "cell_type": "code",
   "execution_count": 8,
   "metadata": {},
   "outputs": [],
   "source": [
    "email = 'pedrohnp016@gmail.com'"
   ]
  },
  {
   "cell_type": "markdown",
   "metadata": {},
   "source": [
    "## Senha de app"
   ]
  },
  {
   "cell_type": "code",
   "execution_count": 3,
   "metadata": {},
   "outputs": [
    {
     "data": {
      "text/plain": [
       "'jrlxpkjlonjdmlvr'"
      ]
     },
     "execution_count": 3,
     "metadata": {},
     "output_type": "execute_result"
    }
   ],
   "source": [
    "with open('Senha.txt') as f:\n",
    "    \n",
    "    senha = f.readlines()\n",
    "    \n",
    "    f.close()\n",
    "    \n",
    "senha_do_email = senha[0]\n",
    "\n",
    "senha_do_email"
   ]
  },
  {
   "cell_type": "markdown",
   "metadata": {},
   "source": [
    "### Enviando E-mail"
   ]
  },
  {
   "cell_type": "code",
   "execution_count": 6,
   "metadata": {
    "scrolled": true
   },
   "outputs": [],
   "source": [
    "msg = EmailMessage()\n",
    "msg['Subject'] = 'Enviando o primerio email com PY'\n",
    "msg['From'] = 'pedrohnp016@gmail.com'\n",
    "msg['To'] = 'pedrohnp016@gmail.com'\n",
    "msg.set_content('Segue o relatorio Diario')"
   ]
  },
  {
   "cell_type": "code",
   "execution_count": 9,
   "metadata": {
    "scrolled": true
   },
   "outputs": [],
   "source": [
    "with smtplib.SMTP_SSL('smtp.gmail.com', 465 ) as smtp:\n",
    "    \n",
    "    smtp.login(email,senha_do_email)\n",
    "    smtp.send_message(msg)"
   ]
  },
  {
   "cell_type": "markdown",
   "metadata": {},
   "source": [
    "### Enviando E-mail com Anexo(s)"
   ]
  },
  {
   "cell_type": "code",
   "execution_count": 10,
   "metadata": {},
   "outputs": [],
   "source": [
    "with open('Financeiro.xlsx','rb') as content_file:\n",
    "    content = content_file.read()\n",
    "    msg.add_attachment(content, maintype = 'application', subtype = 'xlsx', filename = 'Financeiro.xlsx')\n",
    "\n",
    "with smtplib.SMTP_SSL('smtp.gmail.com', 465 ) as smtp:\n",
    "    \n",
    "    smtp.login(email,senha_do_email)\n",
    "    smtp.send_message(msg)"
   ]
  },
  {
   "cell_type": "markdown",
   "metadata": {},
   "source": [
    "### Cópia, mais de 1 destinatário e outras variações"
   ]
  },
  {
   "cell_type": "code",
   "execution_count": null,
   "metadata": {},
   "outputs": [],
   "source": []
  },
  {
   "cell_type": "markdown",
   "metadata": {},
   "source": [
    "### Personalizando o texto do e-mail\n",
    "\n",
    "- Com Python normal"
   ]
  },
  {
   "cell_type": "code",
   "execution_count": 7,
   "metadata": {},
   "outputs": [],
   "source": [
    "msg = EmailMessage()\n",
    "corpo_email = '''\n",
    "    Ola me chamo Pedro\n",
    "    Este é um email para tester\n",
    "    Att.,\n",
    "    Pedrin\n",
    "'''\n",
    "#-----------Caso dê algo errado pode ser colocar como uma lista-----------\n",
    "#corpo_email = [\n",
    "# 'texto1....',\n",
    "# 'texto2....',\n",
    "#]\n",
    "#corpo_email = '\\n'.join(corpo_email)\n",
    "\n",
    "msg['Subject'] = 'Enviando o primerio email com PY'\n",
    "msg['From'] = 'pedrohnp016@gmail.com'\n",
    "msg['To'] = 'pedrohnp016@gmail.com'\n",
    "msg.set_content(corpo_email)\n",
    "\n",
    "with smtplib.SMTP_SSL('smtp.gmail.com', 465 ) as smtp:\n",
    "    \n",
    "    smtp.login(email,senha_do_email)\n",
    "    smtp.send_message(msg)"
   ]
  },
  {
   "cell_type": "markdown",
   "metadata": {},
   "source": [
    "- Com HTML"
   ]
  },
  {
   "cell_type": "code",
   "execution_count": null,
   "metadata": {},
   "outputs": [],
   "source": []
  }
 ],
 "metadata": {
  "kernelspec": {
   "display_name": "Python 3 (ipykernel)",
   "language": "python",
   "name": "python3"
  },
  "language_info": {
   "codemirror_mode": {
    "name": "ipython",
    "version": 3
   },
   "file_extension": ".py",
   "mimetype": "text/x-python",
   "name": "python",
   "nbconvert_exporter": "python",
   "pygments_lexer": "ipython3",
   "version": "3.11.3"
  }
 },
 "nbformat": 4,
 "nbformat_minor": 4
}
