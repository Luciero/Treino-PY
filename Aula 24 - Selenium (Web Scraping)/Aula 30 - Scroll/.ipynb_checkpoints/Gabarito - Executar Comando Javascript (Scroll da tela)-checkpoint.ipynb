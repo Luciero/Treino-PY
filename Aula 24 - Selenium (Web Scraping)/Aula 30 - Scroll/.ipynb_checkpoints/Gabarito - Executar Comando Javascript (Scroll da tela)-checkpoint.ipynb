{
 "cells": [
  {
   "cell_type": "markdown",
   "id": "a149c054",
   "metadata": {},
   "source": [
    "### Executar Comandos Javascript (Scroll da tela)\n",
    "\n",
    "- Você consegue, por meio do Selenium, executar comandos javascript no seu navegador\n",
    "\n",
    "- Isso é essencial para dar scroll na tela, por exemplo, caso seja necessário, como no youtube"
   ]
  },
  {
   "cell_type": "code",
   "execution_count": 1,
   "id": "dabcb19b",
   "metadata": {},
   "outputs": [
    {
     "ename": "AttributeError",
     "evalue": "'WebDriver' object has no attribute 'find_element_by_id'",
     "output_type": "error",
     "traceback": [
      "\u001b[1;31m---------------------------------------------------------------------------\u001b[0m",
      "\u001b[1;31mAttributeError\u001b[0m                            Traceback (most recent call last)",
      "Cell \u001b[1;32mIn[1], line 10\u001b[0m\n\u001b[0;32m      7\u001b[0m driver \u001b[38;5;241m=\u001b[39m webdriver\u001b[38;5;241m.\u001b[39mChrome()\n\u001b[0;32m      8\u001b[0m driver\u001b[38;5;241m.\u001b[39mget(\u001b[38;5;124m\"\u001b[39m\u001b[38;5;124mhttps://youtube.com\u001b[39m\u001b[38;5;124m\"\u001b[39m)\n\u001b[1;32m---> 10\u001b[0m driver\u001b[38;5;241m.\u001b[39mfind_element_by_id(\u001b[38;5;124m\"\u001b[39m\u001b[38;5;124msearch\u001b[39m\u001b[38;5;124m\"\u001b[39m)\u001b[38;5;241m.\u001b[39msend_keys(\u001b[38;5;124m\"\u001b[39m\u001b[38;5;124mpython\u001b[39m\u001b[38;5;124m\"\u001b[39m)\n\u001b[0;32m     11\u001b[0m driver\u001b[38;5;241m.\u001b[39mfind_element_by_id(\u001b[38;5;124m\"\u001b[39m\u001b[38;5;124msearch\u001b[39m\u001b[38;5;124m\"\u001b[39m)\u001b[38;5;241m.\u001b[39msend_keys(Keys\u001b[38;5;241m.\u001b[39mENTER)\n\u001b[0;32m     12\u001b[0m time\u001b[38;5;241m.\u001b[39msleep(\u001b[38;5;241m2\u001b[39m)\n",
      "\u001b[1;31mAttributeError\u001b[0m: 'WebDriver' object has no attribute 'find_element_by_id'"
     ]
    }
   ],
   "source": [
    "# quero pegar uma lista de pelo menos 50 vídeos de Python no Youtube\n",
    "\n",
    "from selenium import webdriver\n",
    "from selenium.webdriver.common.keys import Keys\n",
    "import time\n",
    "\n",
    "driver = webdriver.Chrome()\n",
    "driver.get(\"https://youtube.com\")\n",
    "\n",
    "driver.find_element_by_id(\"search\").send_keys(\"python\")\n",
    "driver.find_element_by_id(\"search\").send_keys(Keys.ENTER)\n",
    "time.sleep(2)\n",
    "\n",
    "# dar um scroll na página\n",
    "for i in range(15):\n",
    "    scroll = 4000 * i\n",
    "    driver.execute_script(f\"window.scroll(0, {scroll});\")\n",
    "    time.sleep(2)\n",
    "\n",
    "\n",
    "lista_videos = driver.find_elements_by_id(\"thumbnail\")\n",
    "\n",
    "for video in lista_videos:\n",
    "    print(video.get_attribute(\"href\"))"
   ]
  },
  {
   "cell_type": "code",
   "execution_count": null,
   "id": "34aa11fe",
   "metadata": {},
   "outputs": [],
   "source": []
  }
 ],
 "metadata": {
  "kernelspec": {
   "display_name": "Python 3 (ipykernel)",
   "language": "python",
   "name": "python3"
  },
  "language_info": {
   "codemirror_mode": {
    "name": "ipython",
    "version": 3
   },
   "file_extension": ".py",
   "mimetype": "text/x-python",
   "name": "python",
   "nbconvert_exporter": "python",
   "pygments_lexer": "ipython3",
   "version": "3.11.3"
  }
 },
 "nbformat": 4,
 "nbformat_minor": 5
}
