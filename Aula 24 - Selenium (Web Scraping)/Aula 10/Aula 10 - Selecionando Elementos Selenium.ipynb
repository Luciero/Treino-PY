{
 "cells": [
  {
   "cell_type": "markdown",
   "id": "367cd714",
   "metadata": {
    "id": "367cd714"
   },
   "source": [
    "### Documentação Selenium:\n",
    "\n",
    "- https://selenium-python.readthedocs.io/locating-elements.html"
   ]
  },
  {
   "cell_type": "code",
   "execution_count": 1,
   "id": "4e28f9f7",
   "metadata": {
    "id": "4e28f9f7",
    "outputId": "f2ebff24-5001-4f7b-bc6d-5b556255c636"
   },
   "outputs": [],
   "source": [
    "from selenium import webdriver\n",
    "from selenium.webdriver.chrome.service import Service\n",
    "from webdriver_manager.chrome import ChromeDriverManager\n",
    "from selenium.webdriver.common.by import By\n",
    "\n",
    "servico = Service(ChromeDriverManager().install())\n",
    "navegador = webdriver.Chrome(service=servico)"
   ]
  },
  {
   "cell_type": "code",
   "execution_count": 2,
   "id": "59c8398d",
   "metadata": {
    "id": "59c8398d"
   },
   "outputs": [],
   "source": [
    "import os\n",
    "\n",
    "caminho = os.getcwd()\n",
    "arquivo = caminho + r'\\Pagina Hashtag.html'\n",
    "navegador.get(arquivo)"
   ]
  },
  {
   "cell_type": "markdown",
   "id": "e7c273b4",
   "metadata": {},
   "source": [
    "###### Pegar todos os links das imagens\n",
    "\n"
   ]
  },
  {
   "cell_type": "markdown",
   "id": "e06fed1a",
   "metadata": {},
   "source": [
    "###### Primeiro jeito"
   ]
  },
  {
   "cell_type": "code",
   "execution_count": 18,
   "id": "16bf9012",
   "metadata": {
    "scrolled": true
   },
   "outputs": [
    {
     "name": "stdout",
     "output_type": "stream",
     "text": [
      "https://www.hashtagtreinamentos.com/curso-de-excel-online\n",
      "https://www.hashtagtreinamentos.com/curso-power-bi\n",
      "https://www.hashtagtreinamentos.com/curso-python\n",
      "https://www.hashtagtreinamentos.com/curso-sql\n",
      "https://www.hashtagtreinamentos.com/curso-vba-excel\n"
     ]
    }
   ],
   "source": [
    "link_imagens = navegador.find_elements(By.TAG_NAME, 'figure') #Lista de figures\n",
    "for link in link_imagens:\n",
    "    try:       #tenta fazer algo ate que nao consiga mas\n",
    "        print(link.find_element(By.TAG_NAME, 'a').get_attribute('href'))\n",
    "    except:   #Quando nao consegue, só continua\n",
    "        continue"
   ]
  },
  {
   "cell_type": "markdown",
   "id": "8182e640",
   "metadata": {},
   "source": [
    "###### Segundo jeito"
   ]
  },
  {
   "cell_type": "code",
   "execution_count": 102,
   "id": "67e7fe76",
   "metadata": {},
   "outputs": [
    {
     "name": "stdout",
     "output_type": "stream",
     "text": [
      "Link do curso de excel online:  https://www.hashtagtreinamentos.com/curso-de-excel-online\n",
      "Link do curso de power bi:  https://www.hashtagtreinamentos.com/curso-power-bi\n",
      "Link do curso de python:  https://www.hashtagtreinamentos.com/curso-python\n",
      "Link do curso de sql:  https://www.hashtagtreinamentos.com/curso-sql\n",
      "Link do curso de vba excel:  https://www.hashtagtreinamentos.com/curso-vba-excel\n"
     ]
    }
   ],
   "source": [
    "link_imagens = navegador.find_elements(By.TAG_NAME, 'figure') #Lista de figures\n",
    "\n",
    "for linkes in link_imagens:\n",
    "    links = linkes.find_elements(By.TAG_NAME, 'a')\n",
    "    for link in links:\n",
    "        nome_curso = str(link.get_attribute('href'))\n",
    "        nome_curso = nome_curso[42:].replace('-',' ')\n",
    "        if 'de' in nome_curso:\n",
    "            print(f'Link do curso {nome_curso}:  {link.get_attribute(\"href\")}')\n",
    "        else:\n",
    "            print(f'Link do curso de {nome_curso}:  {link.get_attribute(\"href\")}')"
   ]
  }
 ],
 "metadata": {
  "colab": {
   "name": "Selecionando Elementos Selenium.ipynb",
   "provenance": []
  },
  "kernelspec": {
   "display_name": "Python 3 (ipykernel)",
   "language": "python",
   "name": "python3"
  },
  "language_info": {
   "codemirror_mode": {
    "name": "ipython",
    "version": 3
   },
   "file_extension": ".py",
   "mimetype": "text/x-python",
   "name": "python",
   "nbconvert_exporter": "python",
   "pygments_lexer": "ipython3",
   "version": "3.11.3"
  }
 },
 "nbformat": 4,
 "nbformat_minor": 5
}
