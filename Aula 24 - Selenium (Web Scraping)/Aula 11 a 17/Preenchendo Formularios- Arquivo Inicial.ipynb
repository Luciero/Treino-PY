{
 "cells": [
  {
   "cell_type": "markdown",
   "id": "367cd714",
   "metadata": {},
   "source": [
    "### Documentação Selenium:\n",
    "\n",
    "- https://selenium-python.readthedocs.io/locating-elements.html"
   ]
  },
  {
   "cell_type": "code",
   "execution_count": 10,
   "id": "4e28f9f7",
   "metadata": {},
   "outputs": [],
   "source": [
    "from selenium import webdriver\n",
    "from selenium.webdriver.chrome.service import Service\n",
    "from webdriver_manager.chrome import ChromeDriverManager\n",
    "from selenium.webdriver.common.by import By\n",
    "\n",
    "\n",
    "servico = Service(ChromeDriverManager().install())\n",
    "navegador = webdriver.Chrome(service=servico)"
   ]
  },
  {
   "cell_type": "code",
   "execution_count": 11,
   "id": "59c8398d",
   "metadata": {},
   "outputs": [],
   "source": [
    "import os\n",
    "\n",
    "caminho = os.getcwd()\n",
    "arquivo = caminho + r\"\\formulario.html\"\n",
    "navegador.get(arquivo)"
   ]
  },
  {
   "cell_type": "markdown",
   "id": "7d964ce5",
   "metadata": {},
   "source": [
    "#### Botão Padrão (clicar em botão)"
   ]
  },
  {
   "cell_type": "code",
   "execution_count": 12,
   "id": "e5c8e21c",
   "metadata": {},
   "outputs": [],
   "source": [
    "navegador.find_element(By.XPATH, '/html/body/form/input[1]').click()\n",
    "alerta = navegador.switch_to.alert\n",
    "alerta.accept()"
   ]
  },
  {
   "cell_type": "markdown",
   "id": "1aeb33bf",
   "metadata": {},
   "source": [
    "#### Dica, esteja atento ao atributo \"value\" dos inputs, ele pode te ajudar\n",
    "\n",
    "- .text\n",
    "- .get_attribute(\"value\")\n",
    "- .is_selected"
   ]
  },
  {
   "cell_type": "markdown",
   "id": "1331d937",
   "metadata": {},
   "source": [
    "#### Botão de Seleção estilo Checkbox (clicar no botão)"
   ]
  },
  {
   "cell_type": "code",
   "execution_count": 13,
   "id": "f198b96a",
   "metadata": {},
   "outputs": [],
   "source": [
    "# Clicar\n",
    "navegador.find_element(By.XPATH, '/html/body/form/input[3]').click()"
   ]
  },
  {
   "cell_type": "code",
   "execution_count": 14,
   "id": "945a973c",
   "metadata": {},
   "outputs": [
    {
     "name": "stdout",
     "output_type": "stream",
     "text": [
      "True\n"
     ]
    }
   ],
   "source": [
    "# Verificar se esta apertado\n",
    "valor = navegador.find_element(By.XPATH, '/html/body/form/input[3]').is_selected()\n",
    "print(valor)"
   ]
  },
  {
   "cell_type": "markdown",
   "id": "6bd35ffa",
   "metadata": {},
   "source": [
    "#### Botão de Seleção de Cores (enviar valor)"
   ]
  },
  {
   "cell_type": "code",
   "execution_count": 15,
   "id": "1c1e2893",
   "metadata": {},
   "outputs": [],
   "source": [
    "# Preencher a cor\n",
    "navegador.find_element(By.XPATH, '/html/body/form/input[4]').send_keys('#A81F1F')"
   ]
  },
  {
   "cell_type": "code",
   "execution_count": 16,
   "id": "76a9b172",
   "metadata": {},
   "outputs": [
    {
     "name": "stdout",
     "output_type": "stream",
     "text": [
      "#a81f1f\n"
     ]
    }
   ],
   "source": [
    "# Verificar qual cor foi selecionada\n",
    "valor = navegador.find_element(By.XPATH, '/html/body/form/input[4]').get_attribute(\"value\")\n",
    "print(valor)"
   ]
  },
  {
   "cell_type": "markdown",
   "id": "d1492596",
   "metadata": {},
   "source": [
    "#### Botão de Datas (enviar valor)"
   ]
  },
  {
   "cell_type": "code",
   "execution_count": 17,
   "id": "7b3566a4",
   "metadata": {},
   "outputs": [],
   "source": [
    "# Preencher o valor\n",
    "navegador.find_element(By.XPATH, '/html/body/form/input[6]').send_keys('01/02/2001')"
   ]
  },
  {
   "cell_type": "code",
   "execution_count": 18,
   "id": "0fef066d",
   "metadata": {},
   "outputs": [
    {
     "name": "stdout",
     "output_type": "stream",
     "text": [
      "2001-01-02\n"
     ]
    }
   ],
   "source": [
    "# Pegar o valor\n",
    "valor = navegador.find_element(By.XPATH, '/html/body/form/input[6]').get_attribute(\"value\")\n",
    "print(valor)"
   ]
  },
  {
   "cell_type": "markdown",
   "id": "b56c93ff",
   "metadata": {},
   "source": [
    "#### Botão de Datas com Horas (enviar valor)"
   ]
  },
  {
   "cell_type": "code",
   "execution_count": 19,
   "id": "eb4e4b0f",
   "metadata": {},
   "outputs": [],
   "source": [
    "# Preencher\n",
    "from selenium.webdriver.common.keys import Keys\n",
    "navegador.find_element(By.XPATH, '/html/body/form/input[7]').send_keys('04/09/1350',Keys.TAB,'10:45AM')\n",
    "                                                                       "
   ]
  },
  {
   "cell_type": "code",
   "execution_count": 20,
   "id": "7674a1e7",
   "metadata": {},
   "outputs": [
    {
     "name": "stdout",
     "output_type": "stream",
     "text": [
      "1350-04-09T10:45\n"
     ]
    }
   ],
   "source": [
    "# Pegar o valor\n",
    "valor = navegador.find_element(By.XPATH, '/html/body/form/input[7]').get_attribute(\"value\")\n",
    "print(valor)"
   ]
  },
  {
   "cell_type": "markdown",
   "id": "2fcaf917",
   "metadata": {},
   "source": [
    "#### Botão para selecionar o arquivo (enviar valor com caminho completo)"
   ]
  },
  {
   "cell_type": "code",
   "execution_count": 21,
   "id": "cd9835fb",
   "metadata": {},
   "outputs": [],
   "source": [
    "# Preencher\n",
    "caminho = os.getcwd()\n",
    "arquivo = caminho + r\"\\formulario.html\"\n",
    "\n",
    "navegador.find_element(By.XPATH, '/html/body/form/input[8]').send_keys(arquivo)"
   ]
  },
  {
   "cell_type": "code",
   "execution_count": 22,
   "id": "5f5c399a",
   "metadata": {},
   "outputs": [
    {
     "name": "stdout",
     "output_type": "stream",
     "text": [
      "C:\\fakepath\\formulario.html\n"
     ]
    }
   ],
   "source": [
    "# Pegar o valor\n",
    "valor = navegador.find_element(By.XPATH, '/html/body/form/input[8]').get_attribute(\"value\")\n",
    "print(valor)"
   ]
  },
  {
   "cell_type": "markdown",
   "id": "7964ee26",
   "metadata": {},
   "source": [
    "#### Botão para selecionar mês e ano (enviar valor)"
   ]
  },
  {
   "cell_type": "code",
   "execution_count": 23,
   "id": "79237b1e",
   "metadata": {},
   "outputs": [],
   "source": [
    "# Preencher\n",
    "navegador.find_element(By.XPATH, '/html/body/form/input[9]').send_keys('nov', Keys.TAB ,'1987')"
   ]
  },
  {
   "cell_type": "code",
   "execution_count": 24,
   "id": "1eb8b5fa",
   "metadata": {},
   "outputs": [
    {
     "name": "stdout",
     "output_type": "stream",
     "text": [
      "1987-11\n"
     ]
    }
   ],
   "source": [
    "# Pegar o valor\n",
    "valor = navegador.find_element(By.XPATH, '/html/body/form/input[9]').get_attribute('value')\n",
    "print(valor)"
   ]
  },
  {
   "cell_type": "markdown",
   "id": "a0191d44",
   "metadata": {},
   "source": [
    "#### Campos Numéricos"
   ]
  },
  {
   "cell_type": "code",
   "execution_count": 25,
   "id": "bc5286c4",
   "metadata": {},
   "outputs": [],
   "source": [
    "# Preencher\n",
    "navegador.find_element(By.XPATH, '/html/body/form/input[10]').clear()\n",
    "navegador.find_element(By.XPATH, '/html/body/form/input[10]').send_keys('09898765531')"
   ]
  },
  {
   "cell_type": "markdown",
   "id": "2b794913",
   "metadata": {},
   "source": [
    "#### Campos de Senha"
   ]
  },
  {
   "cell_type": "code",
   "execution_count": 26,
   "id": "e645408c",
   "metadata": {},
   "outputs": [],
   "source": [
    "# Preencher\n",
    "navegador.find_element(By.XPATH, '/html/body/form/input[11]').send_keys('123654789')"
   ]
  },
  {
   "cell_type": "code",
   "execution_count": 27,
   "id": "db8e6341",
   "metadata": {},
   "outputs": [
    {
     "name": "stdout",
     "output_type": "stream",
     "text": [
      "123654789\n"
     ]
    }
   ],
   "source": [
    "# Pegar o valor\n",
    "valor = navegador.find_element(By.XPATH, '/html/body/form/input[11]').get_attribute('value')\n",
    "print(valor)"
   ]
  },
  {
   "cell_type": "markdown",
   "id": "ce8ecd00",
   "metadata": {},
   "source": [
    "#### RadioButtons (botões que só consegue marcar 1)"
   ]
  },
  {
   "cell_type": "code",
   "execution_count": 28,
   "id": "5bf2274a",
   "metadata": {},
   "outputs": [],
   "source": [
    "# Preencher\n",
    "navegador.find_element(By.XPATH, '/html/body/form/input[13]').click()"
   ]
  },
  {
   "cell_type": "code",
   "execution_count": 29,
   "id": "609711ff",
   "metadata": {},
   "outputs": [
    {
     "name": "stdout",
     "output_type": "stream",
     "text": [
      "True\n"
     ]
    }
   ],
   "source": [
    "# Pegar o valor\n",
    "valor = navegador.find_element(By.XPATH, '/html/body/form/input[13]').is_selected()\n",
    "print(valor)"
   ]
  },
  {
   "cell_type": "markdown",
   "id": "cc904df6",
   "metadata": {},
   "source": [
    "#### Slider (enviar valor)"
   ]
  },
  {
   "cell_type": "code",
   "execution_count": 30,
   "id": "89d89deb",
   "metadata": {},
   "outputs": [
    {
     "name": "stdout",
     "output_type": "stream",
     "text": [
      "50\n"
     ]
    }
   ],
   "source": [
    "# Pegar o valor\n",
    "valor = navegador.find_element(By.XPATH, '/html/body/form/input[15]').get_attribute('value')\n",
    "print(valor)"
   ]
  },
  {
   "cell_type": "code",
   "execution_count": 31,
   "id": "8d6d6ec7",
   "metadata": {},
   "outputs": [],
   "source": [
    "# Preencher\n",
    "elemento = navegador.find_element(By.XPATH, '/html/body/form/input[15]')\n",
    "elemento.clear()\n",
    "\n",
    "escolherValor = 2\n",
    "if escolherValor > 50:\n",
    "    for i in range(escolherValor - int(elemento.get_attribute('value'))):\n",
    "        elemento.send_keys(Keys.ARROW_RIGHT)\n",
    "else:\n",
    "    for i in range(int(elemento.get_attribute('value')) - escolherValor):\n",
    "        elemento.send_keys(Keys.ARROW_LEFT)"
   ]
  },
  {
   "cell_type": "markdown",
   "id": "f03e42d6",
   "metadata": {},
   "source": [
    "#### Caixa de Texto"
   ]
  },
  {
   "cell_type": "code",
   "execution_count": 32,
   "id": "cad4b566",
   "metadata": {},
   "outputs": [],
   "source": [
    "# Preencher\n",
    "navegador.find_element(By.XPATH, '/html/body/form/input[16]').clear()\n",
    "navegador.find_element(By.XPATH, '/html/body/form/input[16]').send_keys('Vitoria')"
   ]
  },
  {
   "cell_type": "code",
   "execution_count": 33,
   "id": "4e3de6e1",
   "metadata": {},
   "outputs": [
    {
     "name": "stdout",
     "output_type": "stream",
     "text": [
      "Vitoria\n"
     ]
    }
   ],
   "source": [
    "# Pegar o valor\n",
    "valor = navegador.find_element(By.XPATH, '/html/body/form/input[16]').get_attribute('value')\n",
    "print(valor)"
   ]
  },
  {
   "cell_type": "markdown",
   "id": "01278cf4",
   "metadata": {},
   "source": [
    "#### Caixa de Horas"
   ]
  },
  {
   "cell_type": "code",
   "execution_count": 34,
   "id": "c544b868",
   "metadata": {},
   "outputs": [],
   "source": [
    "# Preencher\n",
    "navegador.find_element(By.XPATH, '/html/body/form/input[17]').send_keys('09:45AM')"
   ]
  },
  {
   "cell_type": "code",
   "execution_count": 35,
   "id": "2689ad27",
   "metadata": {},
   "outputs": [
    {
     "name": "stdout",
     "output_type": "stream",
     "text": [
      "09:45\n"
     ]
    }
   ],
   "source": [
    "# Pegar o valor\n",
    "valor = navegador.find_element(By.XPATH, '/html/body/form/input[17]').get_attribute('value')\n",
    "print(valor)"
   ]
  },
  {
   "cell_type": "markdown",
   "id": "df88623c",
   "metadata": {},
   "source": [
    "#### Caixa de Data Personalizada (Semanal)"
   ]
  },
  {
   "cell_type": "code",
   "execution_count": 36,
   "id": "356ccab3",
   "metadata": {},
   "outputs": [],
   "source": [
    "# Preencher\n",
    "navegador.find_element(By.XPATH, '/html/body/form/input[18]').send_keys('19', '2232')"
   ]
  },
  {
   "cell_type": "code",
   "execution_count": 37,
   "id": "22822050",
   "metadata": {},
   "outputs": [
    {
     "name": "stdout",
     "output_type": "stream",
     "text": [
      "2232-W19\n"
     ]
    }
   ],
   "source": [
    "# Pegar o valor\n",
    "valor = navegador.find_element(By.XPATH, '/html/body/form/input[18]').get_attribute('value')\n",
    "print(valor)"
   ]
  },
  {
   "cell_type": "markdown",
   "id": "1d279ff1",
   "metadata": {},
   "source": [
    "#### Blocos de texto (enviar valor)"
   ]
  },
  {
   "cell_type": "code",
   "execution_count": 38,
   "id": "4f8e85c5",
   "metadata": {},
   "outputs": [],
   "source": [
    "# Preencher\n",
    "navegador.find_element(By.XPATH, '//*[@id=\"story\"]').clear()\n",
    "navegador.find_element(By.XPATH, '//*[@id=\"story\"]').send_keys('Ola', Keys.ENTER,'Meu nome é Pedro'\n",
    "                                                               ,Keys.ENTER, 'Tenho 22 anos')"
   ]
  },
  {
   "cell_type": "code",
   "execution_count": 39,
   "id": "5737f24a",
   "metadata": {},
   "outputs": [
    {
     "name": "stdout",
     "output_type": "stream",
     "text": [
      "Ola\n",
      "Meu nome é Pedro\n",
      "Tenho 22 anos\n"
     ]
    }
   ],
   "source": [
    "# Pegar o valor\n",
    "valor = navegador.find_element(By.XPATH, '//*[@id=\"story\"]').get_attribute('value')\n",
    "print(valor)"
   ]
  },
  {
   "cell_type": "markdown",
   "id": "8c24068f",
   "metadata": {},
   "source": [
    "#### Selecionando itens de uma lista"
   ]
  },
  {
   "cell_type": "code",
   "execution_count": 45,
   "id": "10888231",
   "metadata": {},
   "outputs": [],
   "source": [
    "# Enviando o valor\n",
    "# Preencher\n",
    "navegador.find_element(By.XPATH,'/html/body/form/select[1]').send_keys('C')"
   ]
  },
  {
   "cell_type": "code",
   "execution_count": 51,
   "id": "bac72ddc",
   "metadata": {},
   "outputs": [
    {
     "name": "stdout",
     "output_type": "stream",
     "text": [
      "b\n"
     ]
    }
   ],
   "source": [
    "# Pegar o valor\n",
    "valor = navegador.find_element(By.XPATH, '/html/body/form/select[1]').get_attribute('value')\n",
    "print(valor)"
   ]
  },
  {
   "cell_type": "code",
   "execution_count": 47,
   "id": "910d4e31",
   "metadata": {},
   "outputs": [],
   "source": [
    "# Clicando\n",
    "import time\n",
    "navegador.find_element(By.XPATH,'/html/body/form/select[1]').click()\n",
    "time.sleep(0.5)\n",
    "navegador.find_element(By.XPATH,'/html/body/form/select[1]/option[2]').click()"
   ]
  },
  {
   "cell_type": "code",
   "execution_count": 52,
   "id": "34272822",
   "metadata": {},
   "outputs": [],
   "source": [
    "# Com o Select\n",
    "from selenium.webdriver.support.select import Select\n",
    "\n",
    "elemento = navegador.find_element(By.TAG_NAME,'select')\n",
    "elemento_select = Select(elemento)"
   ]
  },
  {
   "cell_type": "code",
   "execution_count": 53,
   "id": "82e4d9cf",
   "metadata": {},
   "outputs": [],
   "source": [
    "elemento_select.select_by_visible_text('A')"
   ]
  },
  {
   "cell_type": "code",
   "execution_count": 55,
   "id": "5cff8680",
   "metadata": {},
   "outputs": [
    {
     "name": "stdout",
     "output_type": "stream",
     "text": [
      "a\n"
     ]
    }
   ],
   "source": [
    "lista_elementos = elemento_select.all_selected_options\n",
    "print(lista_elementos[0].get_attribute('value'))"
   ]
  }
 ],
 "metadata": {
  "kernelspec": {
   "display_name": "Python 3 (ipykernel)",
   "language": "python",
   "name": "python3"
  },
  "language_info": {
   "codemirror_mode": {
    "name": "ipython",
    "version": 3
   },
   "file_extension": ".py",
   "mimetype": "text/x-python",
   "name": "python",
   "nbconvert_exporter": "python",
   "pygments_lexer": "ipython3",
   "version": "3.11.3"
  }
 },
 "nbformat": 4,
 "nbformat_minor": 5
}
