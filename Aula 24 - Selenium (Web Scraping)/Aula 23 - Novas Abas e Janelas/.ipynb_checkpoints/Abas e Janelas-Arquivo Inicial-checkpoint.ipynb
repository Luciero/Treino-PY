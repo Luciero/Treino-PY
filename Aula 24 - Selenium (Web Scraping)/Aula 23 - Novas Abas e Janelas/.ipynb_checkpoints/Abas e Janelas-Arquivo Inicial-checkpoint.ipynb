{
 "cells": [
  {
   "cell_type": "markdown",
   "id": "367cd714",
   "metadata": {},
   "source": [
    "### Documentação Selenium:\n",
    "\n",
    "- https://selenium-python.readthedocs.io/locating-elements.html"
   ]
  },
  {
   "cell_type": "code",
   "execution_count": 16,
   "id": "4e28f9f7",
   "metadata": {},
   "outputs": [],
   "source": [
    "from selenium import webdriver\n",
    "from selenium.webdriver.chrome.service import Service\n",
    "from webdriver_manager.chrome import ChromeDriverManager\n",
    "from selenium.webdriver.common.by import By\n",
    "\n",
    "servico = Service(ChromeDriverManager().install())\n",
    "navegador = webdriver.Chrome(service=servico)"
   ]
  },
  {
   "cell_type": "code",
   "execution_count": 17,
   "id": "59c8398d",
   "metadata": {},
   "outputs": [],
   "source": [
    "import os\n",
    "\n",
    "caminho = os.getcwd()\n",
    "arquivo = caminho + r\"\\Pagina Hashtag.html\"\n",
    "navegador.get(arquivo)"
   ]
  },
  {
   "cell_type": "markdown",
   "id": "1a0d1ae6",
   "metadata": {},
   "source": [
    "#### Botão que abre outra janela"
   ]
  },
  {
   "cell_type": "code",
   "execution_count": 19,
   "id": "d90ab797",
   "metadata": {},
   "outputs": [],
   "source": [
    "navegador.find_element(By.XPATH,'/html/body/section[2]/div/div[6]/figure/a/img').click()"
   ]
  },
  {
   "cell_type": "code",
   "execution_count": null,
   "id": "80d8ecac",
   "metadata": {},
   "outputs": [],
   "source": []
  },
  {
   "cell_type": "markdown",
   "id": "80f18fcd",
   "metadata": {},
   "source": [
    "### Outra aba"
   ]
  },
  {
   "cell_type": "code",
   "execution_count": 20,
   "id": "dbac0005",
   "metadata": {},
   "outputs": [],
   "source": [
    "aba_principal = navegador.window_handles[0] \n",
    "outra_aba = navegador.window_handles[1]\n",
    "\n",
    "navegador.switch_to.window(outra_aba)"
   ]
  },
  {
   "cell_type": "code",
   "execution_count": 21,
   "id": "13899a03",
   "metadata": {},
   "outputs": [],
   "source": [
    "navegador.find_element(By.NAME,'firstname').send_keys('Pedro')\n",
    "navegador.find_element(By.NAME,'email').send_keys('pedro@gmail.com')"
   ]
  },
  {
   "cell_type": "code",
   "execution_count": 22,
   "id": "61bb4b86",
   "metadata": {},
   "outputs": [],
   "source": [
    "navegador.switch_to.window(aba_principal)"
   ]
  },
  {
   "cell_type": "markdown",
   "id": "16053597",
   "metadata": {},
   "source": [
    "### Outra janela"
   ]
  },
  {
   "cell_type": "code",
   "execution_count": 25,
   "id": "f79746e1",
   "metadata": {},
   "outputs": [],
   "source": [
    "sql_aba = navegador.window_handles[2]"
   ]
  },
  {
   "cell_type": "code",
   "execution_count": 27,
   "id": "6d4c927a",
   "metadata": {},
   "outputs": [],
   "source": [
    "navegador.switch_to.window(sql_aba)"
   ]
  },
  {
   "cell_type": "code",
   "execution_count": null,
   "id": "cabca85a",
   "metadata": {},
   "outputs": [],
   "source": [
    "navegador.find_element(By.NAME,'firstname').send_keys('Pedro')\n",
    "navegador.find_element(By.NAME,'email').send_keys('pedro@gmail.com')"
   ]
  },
  {
   "cell_type": "code",
   "execution_count": 29,
   "id": "722cefb1",
   "metadata": {},
   "outputs": [],
   "source": [
    "navegador.close()  #fecha aba"
   ]
  },
  {
   "cell_type": "code",
   "execution_count": 30,
   "id": "a70baa2c",
   "metadata": {},
   "outputs": [],
   "source": [
    "navegador.quit()   #fecha o navegador"
   ]
  }
 ],
 "metadata": {
  "kernelspec": {
   "display_name": "Python 3 (ipykernel)",
   "language": "python",
   "name": "python3"
  },
  "language_info": {
   "codemirror_mode": {
    "name": "ipython",
    "version": 3
   },
   "file_extension": ".py",
   "mimetype": "text/x-python",
   "name": "python",
   "nbconvert_exporter": "python",
   "pygments_lexer": "ipython3",
   "version": "3.11.3"
  }
 },
 "nbformat": 4,
 "nbformat_minor": 5
}
