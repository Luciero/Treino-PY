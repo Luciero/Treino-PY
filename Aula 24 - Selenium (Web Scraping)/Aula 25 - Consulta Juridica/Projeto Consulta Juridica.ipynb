{
 "cells": [
  {
   "cell_type": "code",
   "execution_count": 1,
   "id": "a5bbebcb",
   "metadata": {},
   "outputs": [],
   "source": [
    "# criar o navegador\n",
    "from selenium import webdriver\n",
    "from selenium.webdriver.chrome.service import Service\n",
    "from webdriver_manager.chrome import ChromeDriverManager\n",
    "from selenium.webdriver.common.by import By\n",
    "\n",
    "servico = Service(ChromeDriverManager().install())\n",
    "navegador = webdriver.Chrome(service=servico)"
   ]
  },
  {
   "cell_type": "code",
   "execution_count": 2,
   "id": "efa98e69",
   "metadata": {},
   "outputs": [],
   "source": [
    "import os\n",
    "\n",
    "caminho = os.getcwd()\n",
    "arquivo = caminho + r\"\\index.html\"\n",
    "navegador.get(arquivo)"
   ]
  },
  {
   "cell_type": "code",
   "execution_count": 3,
   "id": "2ac123bf",
   "metadata": {},
   "outputs": [],
   "source": [
    "from selenium.webdriver import ActionChains\n",
    "import time\n",
    "\n",
    "objeto = navegador.find_element(By.XPATH, '/html/body/div/div/button')\n",
    "opcao = navegador.find_element(By.XPATH, '/html/body/div/div/div/a[2]')\n",
    "\n",
    "# Mover o mouse para o objeto com DropDown\n",
    "ActionChains(navegador).move_to_element(objeto).perform()\n",
    "time.sleep(1)\n",
    "\n",
    "opcao.click()"
   ]
  },
  {
   "cell_type": "code",
   "execution_count": 4,
   "id": "fe994084",
   "metadata": {},
   "outputs": [],
   "source": [
    "aba_principal = navegador.window_handles[0]\n",
    "outra_aba_1 = navegador.window_handles[1]\n",
    "\n",
    "navegador.switch_to.window(outra_aba_1)\n",
    "\n",
    "navegador.find_element(By.NAME, 'nome').send_keys('Pedro Henrique dos Santos')\n",
    "navegador.find_element(By.NAME, 'advogado').send_keys('Seu Luis')\n",
    "navegador.find_element(By.NAME, 'numero').send_keys('6969')\n",
    "\n",
    "navegador.find_element(By.TAG_NAME, 'button').click()"
   ]
  },
  {
   "cell_type": "code",
   "execution_count": 4,
   "id": "3b7486c2",
   "metadata": {},
   "outputs": [
    {
     "ename": "NameError",
     "evalue": "name 'navegador' is not defined",
     "output_type": "error",
     "traceback": [
      "\u001b[1;31m---------------------------------------------------------------------------\u001b[0m",
      "\u001b[1;31mNameError\u001b[0m                                 Traceback (most recent call last)",
      "Cell \u001b[1;32mIn[4], line 2\u001b[0m\n\u001b[0;32m      1\u001b[0m \u001b[38;5;66;03m# Confirmar a pesquisa\u001b[39;00m\n\u001b[1;32m----> 2\u001b[0m alerta \u001b[38;5;241m=\u001b[39m navegador\u001b[38;5;241m.\u001b[39mswitch_to\u001b[38;5;241m.\u001b[39malert\n\u001b[0;32m      3\u001b[0m alerta\u001b[38;5;241m.\u001b[39maccept()\n\u001b[0;32m      5\u001b[0m \u001b[38;5;28;01mwhile\u001b[39;00m \u001b[38;5;28;01mTrue\u001b[39;00m:\n",
      "\u001b[1;31mNameError\u001b[0m: name 'navegador' is not defined"
     ]
    }
   ],
   "source": [
    "# Confirmar a pesquisa\n",
    "alerta = navegador.switch_to.alert\n",
    "alerta.accept()\n",
    "\n",
    "while True:\n",
    "    try:\n",
    "        alerta = navegador.switch_to.alert\n",
    "\n",
    "        if 'Nenhum processo encontrado!' in alerta.text:\n",
    "            alerta.accept()\n",
    "            navegador.find_element(By.TAG_NAME, 'button').click()\n",
    "            alerta.accept()\n",
    "            print('\\nTentando novamente, aguarde!')\n",
    "            \n",
    "        elif 'Processo encontrado com sucesso!' in alerta.text:\n",
    "            alerta.accept()\n",
    "            print('\\nAchado com sucesso!')\n",
    "            break\n",
    "    except:\n",
    "        time.sleep(1)\n",
    "    "
   ]
  }
 ],
 "metadata": {
  "kernelspec": {
   "display_name": "Python 3 (ipykernel)",
   "language": "python",
   "name": "python3"
  },
  "language_info": {
   "codemirror_mode": {
    "name": "ipython",
    "version": 3
   },
   "file_extension": ".py",
   "mimetype": "text/x-python",
   "name": "python",
   "nbconvert_exporter": "python",
   "pygments_lexer": "ipython3",
   "version": "3.11.3"
  }
 },
 "nbformat": 4,
 "nbformat_minor": 5
}
