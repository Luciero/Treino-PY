{
 "cells": [
  {
   "cell_type": "code",
   "execution_count": 14,
   "id": "03670905",
   "metadata": {},
   "outputs": [],
   "source": [
    "from selenium import webdriver\n",
    "from selenium.webdriver.chrome.service import Service\n",
    "from webdriver_manager.chrome import ChromeDriverManager\n",
    "from selenium.webdriver.common.by import By\n",
    "\n",
    "servico = Service(ChromeDriverManager().install())\n",
    "navegador = webdriver.Chrome(service=servico)"
   ]
  },
  {
   "cell_type": "code",
   "execution_count": 15,
   "id": "1803d617",
   "metadata": {},
   "outputs": [],
   "source": [
    "import os\n",
    "caminho = os.getcwd()"
   ]
  },
  {
   "cell_type": "markdown",
   "id": "2c9219d9",
   "metadata": {},
   "source": [
    "#### Login\n"
   ]
  },
  {
   "cell_type": "code",
   "execution_count": 16,
   "id": "e59401c5",
   "metadata": {},
   "outputs": [],
   "source": [
    "arquivo_index = caminho + r\"\\login.html\"\n",
    "navegador.get(arquivo_index)\n",
    "\n",
    "navegador.find_element(By.XPATH, '/html/body/div/form/input[1]').send_keys('MamaoDoce')\n",
    "navegador.find_element(By.XPATH, '/html/body/div/form/input[2]').send_keys('1236547890')\n",
    "navegador.find_element(By.XPATH, '/html/body/div/form/button').click()"
   ]
  },
  {
   "cell_type": "markdown",
   "id": "0a2ad2a1",
   "metadata": {},
   "source": [
    "##### Preencher as info"
   ]
  },
  {
   "cell_type": "code",
   "execution_count": 17,
   "id": "437f9f57",
   "metadata": {},
   "outputs": [],
   "source": [
    "navegador.find_element(By.NAME, 'nome').send_keys('Pedro Henrique')\n",
    "navegador.find_element(By.NAME, 'endereco').send_keys('Rua alameda 256')\n",
    "navegador.find_element(By.NAME, 'bairro').send_keys('Boca do rio')\n",
    "navegador.find_element(By.NAME, 'municipio').send_keys('Salvador')\n",
    "navegador.find_element(By.NAME, 'cep').send_keys('41705710')\n",
    "navegador.find_element(By.NAME,'uf').send_keys('BA')\n",
    "navegador.find_element(By.NAME, 'cnpj').send_keys('00000000000')\n",
    "navegador.find_element(By.NAME, 'inscricao').send_keys('sei la')\n",
    "navegador.find_element(By.NAME, 'descricao').send_keys('produto_desc')\n",
    "navegador.find_element(By.NAME, 'quantidade').send_keys('2')\n",
    "navegador.find_element(By.NAME, 'valor_unitario').send_keys('9.99')\n",
    "\n",
    "quantidade = float(navegador.find_element(By.NAME, 'quantidade').get_attribute('value'))\n",
    "valor_unitario = float(navegador.find_element(By.NAME, 'valor_unitario').get_attribute('value'))\n",
    "navegador.find_element(By.NAME, 'total').send_keys(f'{quantidade * valor_unitario}')\n",
    "                        \n",
    "navegador.find_element(By.TAG_NAME, 'button').click()"
   ]
  },
  {
   "cell_type": "markdown",
   "id": "1894ed8f",
   "metadata": {},
   "source": [
    "##### Outro metodo do UF"
   ]
  },
  {
   "cell_type": "code",
   "execution_count": 18,
   "id": "6d5df85b",
   "metadata": {},
   "outputs": [],
   "source": [
    "from selenium.webdriver.support.select import Select\n",
    "#navegador.get(arquivo_index)\n",
    "\n",
    "elemento = navegador.find_element(By.TAG_NAME, 'select')\n",
    "elemento_select = Select(elemento)\n",
    "elemento_select.select_by_visible_text('BA')"
   ]
  }
 ],
 "metadata": {
  "kernelspec": {
   "display_name": "Python 3 (ipykernel)",
   "language": "python",
   "name": "python3"
  },
  "language_info": {
   "codemirror_mode": {
    "name": "ipython",
    "version": 3
   },
   "file_extension": ".py",
   "mimetype": "text/x-python",
   "name": "python",
   "nbconvert_exporter": "python",
   "pygments_lexer": "ipython3",
   "version": "3.11.3"
  }
 },
 "nbformat": 4,
 "nbformat_minor": 5
}
