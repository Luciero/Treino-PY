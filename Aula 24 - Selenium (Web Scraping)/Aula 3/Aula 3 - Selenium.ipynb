{
 "cells": [
  {
   "cell_type": "code",
   "execution_count": 1,
   "id": "ccd463a9",
   "metadata": {},
   "outputs": [],
   "source": [
    "from selenium import webdriver\n",
    "from selenium.webdriver.chrome.service import Service\n",
    "from webdriver_manager.chrome import ChromeDriverManager\n",
    "\n",
    "servico = Service(ChromeDriverManager().install())\n",
    "navegador = webdriver.Chrome(service = servico)"
   ]
  },
  {
   "cell_type": "code",
   "execution_count": 8,
   "id": "b349bb69",
   "metadata": {},
   "outputs": [],
   "source": [
    "#   .get() abri sites\n",
    "navegador.get(\"https://www.youtube.com\")"
   ]
  },
  {
   "cell_type": "code",
   "execution_count": 4,
   "id": "7122baba",
   "metadata": {},
   "outputs": [],
   "source": [
    "#   .get() tbm serve para abrir arquivos do pc\n",
    "navegador.get(r\"C:\\Users\\Peu\\Py estudo\\Aula 24 - Selenium (Web Scraping)\\Aula 3\\Teste.html\")"
   ]
  }
 ],
 "metadata": {
  "kernelspec": {
   "display_name": "Python 3 (ipykernel)",
   "language": "python",
   "name": "python3"
  },
  "language_info": {
   "codemirror_mode": {
    "name": "ipython",
    "version": 3
   },
   "file_extension": ".py",
   "mimetype": "text/x-python",
   "name": "python",
   "nbconvert_exporter": "python",
   "pygments_lexer": "ipython3",
   "version": "3.11.3"
  }
 },
 "nbformat": 4,
 "nbformat_minor": 5
}
