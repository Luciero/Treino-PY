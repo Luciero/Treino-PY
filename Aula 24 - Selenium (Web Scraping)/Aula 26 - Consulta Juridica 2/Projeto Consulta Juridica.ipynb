{
 "cells": [
  {
   "cell_type": "code",
   "execution_count": 1,
   "id": "a5bbebcb",
   "metadata": {},
   "outputs": [],
   "source": [
    "# criar o navegador\n",
    "from selenium import webdriver\n",
    "from selenium.webdriver.chrome.service import Service\n",
    "from webdriver_manager.chrome import ChromeDriverManager\n",
    "from selenium.webdriver.common.by import By\n",
    "\n",
    "servico = Service(ChromeDriverManager().install())\n",
    "navegador = webdriver.Chrome(service=servico)"
   ]
  },
  {
   "cell_type": "code",
   "execution_count": 2,
   "id": "efa98e69",
   "metadata": {},
   "outputs": [],
   "source": [
    "import os\n",
    "\n",
    "caminho = os.getcwd()\n",
    "arquivo = caminho + r\"\\index.html\"\n",
    "navegador.get(arquivo)"
   ]
  },
  {
   "cell_type": "code",
   "execution_count": 3,
   "id": "90476c1d",
   "metadata": {
    "scrolled": true
   },
   "outputs": [
    {
     "data": {
      "text/html": [
       "<div>\n",
       "<style scoped>\n",
       "    .dataframe tbody tr th:only-of-type {\n",
       "        vertical-align: middle;\n",
       "    }\n",
       "\n",
       "    .dataframe tbody tr th {\n",
       "        vertical-align: top;\n",
       "    }\n",
       "\n",
       "    .dataframe thead th {\n",
       "        text-align: right;\n",
       "    }\n",
       "</style>\n",
       "<table border=\"1\" class=\"dataframe\">\n",
       "  <thead>\n",
       "    <tr style=\"text-align: right;\">\n",
       "      <th></th>\n",
       "      <th>Nome</th>\n",
       "      <th>Advogado</th>\n",
       "      <th>Processo</th>\n",
       "      <th>Cidade</th>\n",
       "      <th>Status</th>\n",
       "    </tr>\n",
       "  </thead>\n",
       "  <tbody>\n",
       "    <tr>\n",
       "      <th>0</th>\n",
       "      <td>Lira</td>\n",
       "      <td>Alon Lawyer</td>\n",
       "      <td>PC6592</td>\n",
       "      <td>Distrito Federal</td>\n",
       "      <td>NaN</td>\n",
       "    </tr>\n",
       "    <tr>\n",
       "      <th>1</th>\n",
       "      <td>João</td>\n",
       "      <td>Lawyer Alon</td>\n",
       "      <td>EB3792</td>\n",
       "      <td>Rio de Janeiro</td>\n",
       "      <td>NaN</td>\n",
       "    </tr>\n",
       "    <tr>\n",
       "      <th>2</th>\n",
       "      <td>Amanda</td>\n",
       "      <td>Amanda mesmo</td>\n",
       "      <td>MM1043</td>\n",
       "      <td>Rio de Janeiro</td>\n",
       "      <td>NaN</td>\n",
       "    </tr>\n",
       "    <tr>\n",
       "      <th>3</th>\n",
       "      <td>Carol</td>\n",
       "      <td>Amanda</td>\n",
       "      <td>PC5197</td>\n",
       "      <td>São Paulo</td>\n",
       "      <td>NaN</td>\n",
       "    </tr>\n",
       "  </tbody>\n",
       "</table>\n",
       "</div>"
      ],
      "text/plain": [
       "     Nome      Advogado Processo            Cidade  Status\n",
       "0    Lira   Alon Lawyer   PC6592  Distrito Federal     NaN\n",
       "1    João   Lawyer Alon   EB3792    Rio de Janeiro     NaN\n",
       "2  Amanda  Amanda mesmo   MM1043    Rio de Janeiro     NaN\n",
       "3   Carol        Amanda   PC5197         São Paulo     NaN"
      ]
     },
     "metadata": {},
     "output_type": "display_data"
    }
   ],
   "source": [
    "import pandas as pd\n",
    "tabela = pd.read_excel(\"Processos.xlsx\")\n",
    "display(tabela)"
   ]
  },
  {
   "cell_type": "code",
   "execution_count": 13,
   "id": "04787e23",
   "metadata": {},
   "outputs": [],
   "source": [
    "from selenium.webdriver import ActionChains\n",
    "import time\n",
    "\n",
    "for linha in tabela.index:\n",
    "    \n",
    "    # Abrir as opções\n",
    "    objeto = navegador.find_element(By.XPATH, '/html/body/div/div/button')\n",
    "    ActionChains(navegador).move_to_element(objeto).perform()\n",
    "    \n",
    "    # Escolher e clickar\n",
    "    cidade = tabela.loc[linha, 'Cidade']\n",
    "    navegador.find_element(By.PARTIAL_LINK_TEXT, cidade).click()\n",
    "    \n",
    "    # Trocar de navegador\n",
    "    aba_principal = navegador.window_handles[0]\n",
    "    outra_aba = navegador.window_handles[linha + 1]\n",
    "    navegador.switch_to.window(outra_aba)\n",
    "    \n",
    "    # Preencher as info\n",
    "    nome = tabela.loc[linha, 'Nome']\n",
    "    advogado = tabela.loc[linha, 'Advogado']\n",
    "    processo = tabela.loc[linha, 'Processo']\n",
    "    navegador.find_element(By.NAME, 'nome').send_keys(nome)\n",
    "    navegador.find_element(By.NAME, 'advogado').send_keys(advogado)\n",
    "    navegador.find_element(By.NAME, 'numero').send_keys(processo)\n",
    "    navegador.find_element(By.TAG_NAME, 'button').click()\n",
    "\n",
    "    # Aceitar o alerta e verificar se existe processo\n",
    "    alerta = navegador.switch_to.alert\n",
    "    alerta.accept()\n",
    "    \n",
    "    while True:\n",
    "        try:\n",
    "            alerta = navegador.switch_to.alert\n",
    "            break\n",
    "        except:\n",
    "            time.sleep(1)\n",
    "    texto_alerta = alerta.text\n",
    "    \n",
    "    if 'Processo encontrado com sucesso!' in texto_alerta:\n",
    "        alerta.accept()\n",
    "        tabela.loc[linha, 'Status'] = 'Processo encontrado'\n",
    "    else:\n",
    "        alerta.accept()\n",
    "        tabela.loc[linha, 'Status'] = 'Processo não encontrado'\n",
    "    \n",
    "    navegador.switch_to.window(aba_principal)"
   ]
  },
  {
   "cell_type": "code",
   "execution_count": 14,
   "id": "00b81eb9",
   "metadata": {},
   "outputs": [
    {
     "name": "stdout",
     "output_type": "stream",
     "text": [
      "     Nome      Advogado Processo            Cidade                   Status\n",
      "0    Lira   Alon Lawyer   PC6592  Distrito Federal  Processo não encontrado\n",
      "1    João   Lawyer Alon   EB3792    Rio de Janeiro      Processo encontrado\n",
      "2  Amanda  Amanda mesmo   MM1043    Rio de Janeiro  Processo não encontrado\n",
      "3   Carol        Amanda   PC5197         São Paulo      Processo encontrado\n"
     ]
    }
   ],
   "source": [
    "navegador.quit()\n",
    "display(tabela)\n",
    "\n",
    "tabela.to_excel(\"Processos atualizados.xlsx\")"
   ]
  }
 ],
 "metadata": {
  "kernelspec": {
   "display_name": "Python 3 (ipykernel)",
   "language": "python",
   "name": "python3"
  },
  "language_info": {
   "codemirror_mode": {
    "name": "ipython",
    "version": 3
   },
   "file_extension": ".py",
   "mimetype": "text/x-python",
   "name": "python",
   "nbconvert_exporter": "python",
   "pygments_lexer": "ipython3",
   "version": "3.11.3"
  }
 },
 "nbformat": 4,
 "nbformat_minor": 5
}
